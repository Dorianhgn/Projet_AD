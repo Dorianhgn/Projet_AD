{
 "cells": [
  {
   "cell_type": "markdown",
   "metadata": {},
   "source": [
    "## Data preprocessing"
   ]
  },
  {
   "cell_type": "code",
   "execution_count": null,
   "metadata": {
    "vscode": {
     "languageId": "r"
    }
   },
   "outputs": [],
   "source": [
    "# Chargement des librairies nécessaires\n",
    "library(ggplot2)\n",
    "library(tidyverse)\n",
    "library(gridExtra)\n",
    "library(GGally)\n",
    "library(plotly)\n",
    "library(corrplot)\n",
    "library(reshape2)\n",
    "library(FactoMineR) \n",
    "library(factoextra)\n",
    "library(glmnet) \n",
    "library(ggfortify)\n",
    "library(pROC)\n",
    "library(ROCR)"
   ]
  },
  {
   "cell_type": "code",
   "execution_count": null,
   "metadata": {
    "vscode": {
     "languageId": "r"
    }
   },
   "outputs": [],
   "source": [
    "# Lecture des données\n",
    "path <- \"data/\"\n",
    "song <- read.csv(paste0(path, \"spotify_songs.csv\"), header = TRUE, sep = \",\")\n",
    "\n",
    "# Premières lignes du jeu de données\n",
    "head(song)\n",
    "\n",
    "# Vérification du contenu\n",
    "summary(song)"
   ]
  },
  {
   "cell_type": "code",
   "execution_count": null,
   "metadata": {
    "vscode": {
     "languageId": "r"
    }
   },
   "outputs": [],
   "source": [
    "# Check the data types\n",
    "str(song)"
   ]
  },
  {
   "cell_type": "code",
   "execution_count": null,
   "metadata": {
    "vscode": {
     "languageId": "r"
    }
   },
   "outputs": [],
   "source": [
    "# Drop the track_id, track_album_id, playlist_id columns\n",
    "song <- song[, -c(1, 5, 9)]\n",
    "\n",
    "# As factor the categorical variables track_artist, playlist_genre, playlist_subgenre, key, mode, playlist_name, track_album_name\n",
    "song$playlist_name <- as.factor(song$playlist_name)\n",
    "song$track_album_name <- as.factor(song$track_album_name)\n",
    "song$track_artist <- as.factor(song$track_artist)\n",
    "song$playlist_genre <- as.factor(song$playlist_genre)\n",
    "song$playlist_subgenre <- as.factor(song$playlist_subgenre)\n",
    "song$key <- factor(song$key, levels = c(-1, 0:11), labels = c(\"No key detected\", \"C\", \"C♯/D♭\", \"D\", \"D♯/E♭\", \"E\", \"F\", \"F♯/G♭\", \"G\", \"G♯/A♭\", \"A\", \"A♯/B♭\", \"B\"))\n",
    "song$mode <- factor(song$mode, levels = c(0, 1), labels = c(\"minor\", \"major\"))\n",
    "\n",
    "# track_album_release_date to date (if the full date is not available, we will use the first day of the year)\n",
    "song$track_album_release_date <- as.Date(ifelse(nchar(song$track_album_release_date) != 10, \n",
    "                                                paste0(substr(song$track_album_release_date, 1, 4), \"-01-01\"), \n",
    "                                                song$track_album_release_date), \n",
    "                                         format = \"%Y-%m-%d\")\n",
    "\n",
    "# Convert the duration_ms to seconds and rename the column to duration_s\n",
    "song$duration_s <- song$duration_ms / 1000\n",
    "song$duration_ms <- NULL\n",
    "\n",
    "# Check the modified dataset\n",
    "summary(song)\n",
    "head(song)"
   ]
  },
  {
   "cell_type": "code",
   "execution_count": null,
   "metadata": {
    "vscode": {
     "languageId": "r"
    }
   },
   "outputs": [],
   "source": [
    "# Check for missing values\n",
    "colSums(is.na(song))\n",
    "\n",
    "# Drop the missing values\n",
    "song <- na.omit(song)\n",
    "\n",
    "# Check the modified dataset\n",
    "colSums(is.na(song))\n",
    "\n",
    "str(song)\n",
    "\n",
    "# Show the number of data\n",
    "nrow(song)"
   ]
  },
  {
   "cell_type": "code",
   "execution_count": null,
   "metadata": {
    "vscode": {
     "languageId": "r"
    }
   },
   "outputs": [],
   "source": [
    "# Check for duplicated data\n",
    "cat(sum(duplicated(song)),'\\n')\n",
    "\n",
    "# Check for duplicated song names with same artist\n",
    "cat(sum(duplicated(song[, c(\"track_name\", \"track_artist\")])), '\\n')"
   ]
  },
  {
   "cell_type": "code",
   "execution_count": null,
   "metadata": {
    "vscode": {
     "languageId": "r"
    }
   },
   "outputs": [],
   "source": [
    "# New data set by removing columns playlist_name, playlist_genre, playlist_subgenre\n",
    "onlysongs <- song[, -c(6, 7, 8)]\n",
    "\n",
    "# Check for duplicated data\n",
    "cat(sum(duplicated(onlysongs)), '\\n')\n",
    "\n",
    "# Drop duplicates\n",
    "onlysongs <- unique(onlysongs)\n",
    "\n",
    "# Print number of songs with same name and same artist\n",
    "cat(sum(duplicated(onlysongs[, c(\"track_name\", \"track_artist\")])), '\\n')\n",
    "\n",
    "# print rows with name \"Something real\"\n",
    "onlysongs[onlysongs$track_name == \"Something Real\", ]\n",
    "\n",
    "# Remove duplicates with the same name and artist, keeping only one with the highest popularity\n",
    "onlysongs <- onlysongs %>%\n",
    "    group_by(track_name, track_artist) %>%\n",
    "    filter(track_popularity == max(track_popularity)) %>%\n",
    "    slice(1) %>%  # If there are ties in popularity, keep just one\n",
    "    ungroup()\n",
    "\n",
    "# print rows with name \"Something real\"\n",
    "onlysongs[onlysongs$track_name == \"Something Real\", ]\n",
    "\n",
    "# Number of value in onlysongs\n",
    "cat(nrow(onlysongs), '\\n')"
   ]
  },
  {
   "cell_type": "markdown",
   "metadata": {},
   "source": [
    "Descriptive Analysis"
   ]
  },
  {
   "cell_type": "code",
   "execution_count": null,
   "metadata": {
    "vscode": {
     "languageId": "r"
    }
   },
   "outputs": [],
   "source": [
    "summary(onlysongs)"
   ]
  },
  {
   "cell_type": "code",
   "execution_count": null,
   "metadata": {
    "vscode": {
     "languageId": "r"
    }
   },
   "outputs": [],
   "source": [
    "#Affichage d'histogrammes représentant la distribution de la popularité des chansons, danceability, energy, loudness, speechiness, acousticness, instrumentalness, liveness, valence, tempo, duration_s, avec la possibilité de modifier la taille des titres et du texte des axes\n",
    "options(repr.plot.width=15, repr.plot.height=15)\n",
    "par(mfrow=c(4, 3))\n",
    "hist(onlysongs$track_popularity, main=\"Popularité des chansons\", xlab=\"Popularité\", ylab=\"Nombre de chansons\", col=\"lightblue\", border=\"black\")\n",
    "hist(onlysongs$danceability, main=\"Danceability\", xlab=\"Danceability\", ylab=\"Nombre de chansons\", col=\"lightblue\", border=\"black\")\n",
    "hist(onlysongs$energy, main=\"Energy\", xlab=\"Energy\", ylab=\"Nombre de chansons\", col=\"lightblue\", border=\"black\")\n",
    "hist(onlysongs$loudness, main=\"Loudness\", xlab=\"Loudness\", ylab=\"Nombre de chansons\", col=\"lightblue\", border=\"black\")\n",
    "hist(onlysongs$speechiness, main=\"Speechiness\", xlab=\"Speechiness\", ylab=\"Nombre de chansons\", col=\"lightblue\", border=\"black\")\n",
    "hist(onlysongs$acousticness, main=\"Acousticness\", xlab=\"Acousticness\", ylab=\"Nombre de chansons\", col=\"lightblue\", border=\"black\")\n",
    "hist(onlysongs$instrumentalness, main=\"Instrumentalness\", xlab=\"Instrumentalness\", ylab=\"Nombre de chansons\", col=\"lightblue\", border=\"black\")\n",
    "hist(onlysongs$liveness, main=\"Liveness\", xlab=\"Liveness\", ylab=\"Nombre de chansons\", col=\"lightblue\", border=\"black\")\n",
    "hist(onlysongs$valence, main=\"Valence\", xlab=\"Valence\", ylab=\"Nombre de chansons\", col=\"lightblue\", border=\"black\")\n",
    "hist(onlysongs$tempo, main=\"Tempo\", xlab=\"Tempo\", ylab=\"Nombre de chansons\", col=\"lightblue\", border=\"black\")\n",
    "hist(onlysongs$duration_s, main=\"Durée des chansons\", xlab=\"Durée (s)\", ylab=\"Nombre de chansons\", col=\"lightblue\", border=\"black\")"
   ]
  },
  {
   "cell_type": "code",
   "execution_count": null,
   "metadata": {
    "vscode": {
     "languageId": "r"
    }
   },
   "outputs": [],
   "source": [
    "options(repr.plot.width=15, repr.plot.height=10)\n",
    "par(mfrow=c(2, 3))\n",
    "\n",
    "# Histogramme pour la variable 'mode'\n",
    "mode_counts <- table(onlysongs$mode)\n",
    "barplot(\n",
    "  mode_counts,\n",
    "  main = \"Distribution de la variable 'mode'\",\n",
    "  xlab = \"Mode\",\n",
    "  ylab = \"Fréquence\",\n",
    "  col = \"lightblue\",\n",
    "  border = \"black\",\n",
    "  las = 1 # Labels horizontaux\n",
    ")\n",
    "\n",
    "# Histogramme pour la variable 'key'\n",
    "key_counts <- table(onlysongs$key)\n",
    "barplot(\n",
    "  key_counts,\n",
    "  main = \"Distribution de la variable 'key'\",\n",
    "  xlab = \"Key\",\n",
    "  ylab = \"Fréquence\",\n",
    "  col = \"lightblue\",\n",
    "  border = \"black\",\n",
    "  las = 1 # Labels horizontaux\n",
    ")\n",
    "# Conversion de la variable 'track_album_release_date' en format Date\n",
    "onlysongs$track_album_release <- as.Date(onlysongs$track_album_release_date)\n",
    "\n",
    "# Extraction de l'année de sortie\n",
    "onlysongs$release_year <- format(onlysongs$track_album_release, \"%Y\")\n",
    "\n",
    "# Comptage des occurrences par année\n",
    "release_year_counts <- table(onlysongs$release_year)\n",
    "\n",
    "# Création de l'histogramme\n",
    "barplot(\n",
    "  release_year_counts,\n",
    "  main = \"Distribution des années de sortie des albums\",\n",
    "  xlab = \"Année de sortie\",\n",
    "  ylab = \"Nombre de morceaux\",\n",
    "  col = \"lightblue\",\n",
    "  border = \"black\",\n",
    "  las = 2 # Rotation des labels pour les rendre lisibles\n",
    ")\n",
    "\n",
    "# Histogramme pour la variable 'playlist_genre'\n",
    "genre_counts <- table(song$playlist_genre)\n",
    "barplot(\n",
    "  genre_counts,\n",
    "  main = \"Distribution de la variable 'playlist_genre'\",\n",
    "  xlab = \"Genre de la playlist\",\n",
    "  ylab = \"Fréquence\",\n",
    "  col = \"lightblue\",\n",
    "  border = \"black\",\n",
    "  las = 2 # Rotation des labels pour les rendre lisibles\n",
    ")\n",
    "\n",
    "# Histogramme pour la variable 'playlist_subgenre'\n",
    "subgenre_counts <- table(song$playlist_subgenre)\n",
    "barplot(\n",
    "  subgenre_counts,\n",
    "  main = \"Distribution de la variable 'playlist_subgenre'\",\n",
    "  xlab = \"Sous-genre de la playlist\",\n",
    "  ylab = \"Fréquence\",\n",
    "  col = \"lightblue\",\n",
    "  border = \"black\",\n",
    "  las = 2 # Rotation des labels pour les rendre lisibles\n",
    ")"
   ]
  },
  {
   "cell_type": "code",
   "execution_count": null,
   "metadata": {
    "vscode": {
     "languageId": "r"
    }
   },
   "outputs": [],
   "source": [
    "# Création des catégories pour la variable 'speechiness'\n",
    "onlysongs$speechiness_category <- cut(\n",
    "  onlysongs$speechiness,\n",
    "  breaks = c(0, 0.33, 0.66, 1),\n",
    "  labels = c(\"Music\", \"Speech and music\", \"Speech\"),\n",
    "  include.lowest = TRUE\n",
    ")\n",
    "\n",
    "# Comptage des occurrences dans chaque catégorie\n",
    "speechiness_counts <- table(onlysongs$speechiness_category)\n",
    "\n",
    "# Création de l'histogramme\n",
    "barplot(\n",
    "  speechiness_counts,\n",
    "  main = \"Distribution des catégories de 'speechiness'\",\n",
    "  xlab = \"Catégories de speechiness\",\n",
    "  ylab = \"Nombre de morceaux\",\n",
    "  col = \"lightblue\",\n",
    "  border = \"black\"\n",
    ")"
   ]
  },
  {
   "cell_type": "code",
   "execution_count": null,
   "metadata": {
    "vscode": {
     "languageId": "r"
    }
   },
   "outputs": [],
   "source": [
    "# Création des catégories pour la variable 'speechiness'\n",
    "onlysongs$speechiness_category <- cut(\n",
    "  onlysongs$speechiness,\n",
    "  breaks = c(0, 0.5, 1),\n",
    "  labels = c(\"Vocal\", \"Instrumental\"),\n",
    "  include.lowest = TRUE\n",
    ")\n",
    "\n",
    "# Comptage des occurrences dans chaque catégorie\n",
    "speechiness_counts <- table(onlysongs$speechiness_category)\n",
    "\n",
    "# Création de l'histogramme\n",
    "barplot(\n",
    "  speechiness_counts,\n",
    "  main = \"Distribution des catégories de 'speechiness'\",\n",
    "  xlab = \"Catégories de speechiness\",\n",
    "  ylab = \"Nombre de morceaux\",\n",
    "  col = \"lightblue\",\n",
    "  border = \"black\"\n",
    ")"
   ]
  },
  {
   "cell_type": "code",
   "execution_count": null,
   "metadata": {
    "vscode": {
     "languageId": "r"
    }
   },
   "outputs": [],
   "source": [
    "# Affichage des colonnes de onlysongs\n",
    "colnames(onlysongs)\n",
    "\n",
    "# Affichage de la matrice de corrélation des colonnes popularity, danceability, energy, loudness, speechiness, acousticness, instrumentalness, liveness, valence, tempo, duration_s\n",
    "correlation_matrix <- cor(onlysongs[, c(\"track_popularity\", \"danceability\", \"energy\", \"loudness\", \"speechiness\", \"acousticness\", \"instrumentalness\", \"liveness\", \"valence\", \"tempo\", \"duration_s\")])\n",
    "corrplot(correlation_matrix, method = \"number\")"
   ]
  },
  {
   "cell_type": "code",
   "execution_count": null,
   "metadata": {
    "vscode": {
     "languageId": "r"
    }
   },
   "outputs": [],
   "source": [
    "# Encodage des artistes en variables numériques\n",
    "onlysongs$artist_numeric <- as.numeric(as.factor(onlysongs$track_artist))\n",
    "\n",
    "# Calcul de la corrélation entre l'artiste encodé et la popularité\n",
    "correlation_artist_popularity <- cor(onlysongs$artist_numeric, onlysongs$track_popularity)\n",
    "\n",
    "# Affichage de la corrélation\n",
    "print(correlation_artist_popularity)"
   ]
  },
  {
   "cell_type": "code",
   "execution_count": null,
   "metadata": {
    "vscode": {
     "languageId": "r"
    }
   },
   "outputs": [],
   "source": [
    "# Scatterplot pour visualiser la relation entre l'accousticness et l'energy\n",
    "ggplot(onlysongs, aes(x = acousticness, y = energy)) +\n",
    "  geom_point(aes(color = track_popularity), alpha = 0.5) +\n",
    "  scale_color_gradient(low = \"blue\", high = \"red\") +\n",
    "  labs(title = \"Relation entre l'acousticness et l'energy\",\n",
    "       x = \"Acousticness\",\n",
    "       y = \"Energy\",\n",
    "       color = \"Popularité\") +\n",
    "  theme_minimal()"
   ]
  },
  {
   "cell_type": "code",
   "execution_count": null,
   "metadata": {
    "vscode": {
     "languageId": "r"
    }
   },
   "outputs": [],
   "source": [
    "# Scatterplot pour visualiser la relation entre l'acousticness et la loudness\n",
    "ggplot(onlysongs, aes(x = acousticness, y = loudness)) +\n",
    "  geom_point(aes(color = track_popularity), alpha = 0.5) +\n",
    "  scale_color_gradient(low = \"blue\", high = \"red\") +\n",
    "  labs(title = \"Relation entre l'acousticness et la loudness\",\n",
    "       x = \"Acousticness\",\n",
    "       y = \"Loudness\",\n",
    "       color = \"Popularité\") +\n",
    "  theme_minimal()"
   ]
  },
  {
   "cell_type": "code",
   "execution_count": null,
   "metadata": {
    "vscode": {
     "languageId": "r"
    }
   },
   "outputs": [],
   "source": [
    "#Scatterplot pour visualiser la relation entre la loudness et l'energy\n",
    "ggplot(onlysongs, aes(x = loudness, y = energy)) +\n",
    "  geom_point(aes(color = track_popularity), alpha = 0.5) +\n",
    "  scale_color_gradient(low = \"blue\", high = \"red\") +\n",
    "  labs(title = \"Relation entre la loudness et l'energy\",\n",
    "       x = \"Loudness\",\n",
    "       y = \"Energy\",\n",
    "       color = \"Popularité\") +\n",
    "  theme_minimal()"
   ]
  },
  {
   "cell_type": "code",
   "execution_count": null,
   "metadata": {
    "vscode": {
     "languageId": "r"
    }
   },
   "outputs": [],
   "source": [
    "# Histogrammes de la popularité des chansons par genre, un histogramme par genre, en utilisant les données \"song\"\n",
    "options(repr.plot.width=15, repr.plot.height=10)\n",
    "par(mfrow=c(3, 2))\n",
    "for (genre in levels(song$playlist_genre)) {\n",
    "  hist(song$track_popularity[song$playlist_genre == genre], \n",
    "       main = paste(\"Popularité des chansons dans le genre\", genre), \n",
    "       xlab = \"Popularité\", \n",
    "       ylab = \"Nombre de chansons\", \n",
    "       col = \"lightblue\", \n",
    "       border = \"black\")\n",
    "}"
   ]
  },
  {
   "cell_type": "code",
   "execution_count": null,
   "metadata": {
    "vscode": {
     "languageId": "r"
    }
   },
   "outputs": [],
   "source": [
    "# Histogrammes de la popularité des chansons par sous-genre, un histogramme par sous-genre, en utilisant les données \"song\"\n",
    "options(repr.plot.width=15, repr.plot.height=10)\n",
    "par(mfrow=c(3, 2))\n",
    "for (subgenre in levels(song$playlist_subgenre)) {\n",
    "  hist(song$track_popularity[song$playlist_subgenre == subgenre], \n",
    "       main = paste(\"Popularité des chansons dans le sous-genre\", subgenre), \n",
    "       xlab = \"Popularité\", \n",
    "       ylab = \"Nombre de chansons\", \n",
    "       col = \"lightblue\", \n",
    "       border = \"black\")\n",
    "}"
   ]
  },
  {
   "cell_type": "code",
   "execution_count": null,
   "metadata": {
    "vscode": {
     "languageId": "r"
    }
   },
   "outputs": [],
   "source": [
    "# Extraction de l'année de sortie\n",
    "onlysongs$release_year <- format(onlysongs$track_album_release_date, \"%Y\")\n",
    "\n",
    "# Calcul de la popularité moyenne par année de sortie\n",
    "average_popularity_by_year <- onlysongs %>%\n",
    "  group_by(release_year) %>%\n",
    "  summarise(mean_popularity = mean(track_popularity, na.rm = TRUE))\n",
    "\n",
    "# Création du graphique\n",
    "ggplot(average_popularity_by_year, aes(x = as.numeric(release_year), y = mean_popularity)) +\n",
    "  geom_line(color = \"blue\") +\n",
    "  geom_point(color = \"red\") +\n",
    "  labs(title = \"Popularité moyenne des musiques par année de sortie\",\n",
    "       x = \"Année de sortie\",\n",
    "       y = \"Popularité moyenne\") +\n",
    "  theme_minimal()"
   ]
  },
  {
   "cell_type": "code",
   "execution_count": null,
   "metadata": {
    "vscode": {
     "languageId": "r"
    }
   },
   "outputs": [],
   "source": [
    "# Comptage du nombre de musiques par genre et par année\n",
    "songs_by_genre_year <- song %>%\n",
    "    group_by(release_year = format(track_album_release_date, \"%Y\"), playlist_genre) %>%\n",
    "    summarise(count = n(), .groups = \"drop\")\n",
    "\n",
    "# Création du graphique\n",
    "    ggplot(songs_by_genre_year, aes(x = as.numeric(release_year), y = count, color = playlist_genre)) +\n",
    "        geom_line() +\n",
    "        labs(title = \"Nombre de musiques sorties par genre et par année\",\n",
    "             x = \"Année de sortie\",\n",
    "             y = \"Nombre de morceaux\",\n",
    "             color = \"Genre\") +\n",
    "        theme_minimal()"
   ]
  },
  {
   "cell_type": "code",
   "execution_count": null,
   "metadata": {
    "vscode": {
     "languageId": "r"
    }
   },
   "outputs": [],
   "source": [
    "# Calcul de la loudness moyenne par genre\n",
    "average_loudness_by_genre <- song %>%\n",
    "    group_by(playlist_genre) %>%\n",
    "    summarise(mean_loudness = mean(loudness, na.rm = TRUE))\n",
    "\n",
    "# Création du graphique\n",
    "ggplot(average_loudness_by_genre, aes(x = reorder(playlist_genre, -mean_loudness), y = mean_loudness)) +\n",
    "    geom_bar(stat = \"identity\", fill = \"lightblue\", color = \"black\") +\n",
    "    labs(title = \"Loudness moyenne par genre de musique\",\n",
    "             x = \"Genre de musique\",\n",
    "             y = \"Loudness moyenne\") +\n",
    "    theme_minimal() +\n",
    "    theme(axis.text.x = element_text(angle = 45, hjust = 1))"
   ]
  },
  {
   "cell_type": "code",
   "execution_count": null,
   "metadata": {
    "vscode": {
     "languageId": "r"
    }
   },
   "outputs": [],
   "source": [
    "# Calcul des moyennes par genre pour chaque variable\n",
    "average_values_by_genre <- song %>%\n",
    "    group_by(playlist_genre) %>%\n",
    "    summarise(\n",
    "        danceability = mean(danceability, na.rm = TRUE),\n",
    "        energy = mean(energy, na.rm = TRUE),\n",
    "        loudness = mean(loudness, na.rm = TRUE),\n",
    "        mode = mean(as.numeric(mode), na.rm = TRUE),\n",
    "        speechiness = mean(speechiness, na.rm = TRUE),\n",
    "        acousticness = mean(acousticness, na.rm = TRUE),\n",
    "        instrumentalness = mean(instrumentalness, na.rm = TRUE),\n",
    "        liveness = mean(liveness, na.rm = TRUE),\n",
    "        valence = mean(valence, na.rm = TRUE),\n",
    "        tempo = mean(tempo, na.rm = TRUE),\n",
    "        duration_ms = mean(duration_s * 1000, na.rm = TRUE)\n",
    "    )\n",
    "\n",
    "# Affichage du tableau\n",
    "print(average_values_by_genre)"
   ]
  },
  {
   "cell_type": "code",
   "execution_count": null,
   "metadata": {
    "vscode": {
     "languageId": "r"
    }
   },
   "outputs": [],
   "source": [
    "# Diagramme en barres empliées de la variable \"Key\" en fonction du genre de la musique\n",
    "ggplot(song, aes(x = playlist_genre, fill = key)) +\n",
    "  geom_bar(position = \"fill\") +\n",
    "  labs(title = \"Répartition de la variable 'Key' par genre de musique\",\n",
    "       x = \"Genre de musique\",\n",
    "       y = \"Proportion\",\n",
    "       fill = \"Key\") +\n",
    "  theme_minimal() +\n",
    "  theme(axis.text.x = element_text(angle = 45, hjust = 1))"
   ]
  },
  {
   "cell_type": "code",
   "execution_count": null,
   "metadata": {
    "vscode": {
     "languageId": "r"
    }
   },
   "outputs": [],
   "source": [
    "#Diagramme en barre empillés de la variable \"Mode\" en fonction du genre de la musique\n",
    "ggplot(song, aes(x = playlist_genre, fill = mode)) +\n",
    "  geom_bar(position = \"fill\") +\n",
    "  labs(title = \"Répartition de la variable 'Mode' par genre de musique\",\n",
    "       x = \"Genre de musique\",\n",
    "       y = \"Proportion\",\n",
    "       fill = \"Mode\") +\n",
    "  theme_minimal() +\n",
    "  theme(axis.text.x = element_text(angle = 45, hjust = 1))"
   ]
  },
  {
   "cell_type": "code",
   "execution_count": null,
   "metadata": {
    "vscode": {
     "languageId": "r"
    }
   },
   "outputs": [],
   "source": [
    "# Calculer le nombre de playlists différentes dans lesquelles chaque chanson apparaît\n",
    "playlist_count <- song %>%\n",
    "    group_by(track_name, track_artist) %>%\n",
    "    summarise(n_playlists = n_distinct(playlist_name),\n",
    "                        track_popularity = max(track_popularity)) %>%\n",
    "    ungroup()\n",
    "\n",
    "# Calcul de la corrélation entre le nombre de playlists et la popularité\n",
    "correlation <- cor(playlist_count$n_playlists, playlist_count$track_popularity)\n",
    "\n",
    "# Affichage du résultat\n",
    "cat(\"Corrélation entre le nombre de playlists et la popularité :\", correlation, \"\\n\")\n",
    "\n",
    "# Visualisation\n",
    "ggplot(playlist_count, aes(x = n_playlists, y = track_popularity)) +\n",
    "    geom_point(alpha = 0.5, color = \"blue\") +\n",
    "    geom_smooth(method = \"lm\", se = FALSE, color = \"red\") +\n",
    "    labs(title = \"Corrélation entre le nombre de playlists et la popularité\",\n",
    "             x = \"Nombre de playlists\",\n",
    "             y = \"Popularité de la chanson\") +\n",
    "    theme_minimal()"
   ]
  },
  {
   "cell_type": "markdown",
   "metadata": {},
   "source": [
    "## 2. Réduction de dimension par Analyse en Composantes Principales (ACP)"
   ]
  },
  {
   "cell_type": "markdown",
   "metadata": {},
   "source": [
    "Dans cette partie, nous allons effectuer une analyse en composantes principales (ACP) sur les données prétraitées. L'ACP est une technique de réduction de dimension qui permet de projeter les données d'origine dans un espace de dimension inférieure. Nous avons gardé 20 variables et nous allons étudier s'il est possible de réduire la dimensionnalité de ces données tout en préservant un maximum d'information."
   ]
  },
  {
   "cell_type": "markdown",
   "metadata": {},
   "source": [
    "### 2.1. Format des données"
   ]
  },
  {
   "cell_type": "markdown",
   "metadata": {},
   "source": [
    "Ici on ne sélectionne que les variables quantitatives, en y ajoutant une variable qualitative (playlist_genre) pour voir si elle a un impact sur la projection des données. On garde au final 11 variables quantitatives et 1 variable qualitative.\n",
    "\n",
    "On décide de normaliser les données avant de faire l'ACP car l'ACP est sensible à l'échelle des variables. On va donc centrer et réduire les données."
   ]
  },
  {
   "cell_type": "code",
   "execution_count": null,
   "metadata": {
    "vscode": {
     "languageId": "r"
    }
   },
   "outputs": [],
   "source": [
    "# PCA analysis using FactoMineR\n",
    "song_pca <- song[, c(3, 7, 9:10, 12, 14:20)]\n",
    "\n",
    "# Perform PCA\n",
    "pca <- PCA(song_pca,scale.unit = TRUE, graph = FALSE,ncp = 7,quali.sup = 2)\n",
    "\n",
    "# Afficher le pourcentage de variance expliquée par chaque composante principale\n",
    "fviz_eig(pca, addlabels = TRUE, ylim = c(0, 40))\n",
    "\n",
    "# Calculer la variance cumulée\n",
    "explained_variance <- pca$eig[, 2]  # La deuxième colonne contient le pourcentage de variance expliquée\n",
    "cumulative_variance <- cumsum(explained_variance) \n",
    "\n",
    "# Tracer la variance cumulée\n",
    "plot(cumulative_variance, xlab = \"Nombre de composantes principales\", ylab = \"Variance cumulée\", type = \"b\")\n",
    "abline(h = 80, col = \"red\", lty = 2)  # Ligne horizontale à 80% de variance expliquée"
   ]
  },
  {
   "cell_type": "markdown",
   "metadata": {},
   "source": [
    "**Interprétation :** \n",
    "\n",
    "L’analyse de la variance expliquée montre que les 7 premières composantes principales permettent de représenter 80,1 % de la variance totale du jeu de données. Cela signifie que l’essentiel de l’information contenue dans les 11 variables numériques initiales (comme danceability, energy, speechiness, tempo, etc.) peut être résumé avec seulement 7 dimensions, ce qui représente une réduction significative de la complexité du dataset tout en conservant une bonne qualité descriptive.\n",
    "\n",
    "Dans cette optique de réduction de dimension, il serait pertinent de conserver ces 7 composantes principales pour la suite des analyses (clustering, visualisation, classification), car elles capturent la structure principale des données tout en éliminant le \"bruit\".\n",
    "\n",
    "Dans l’analyse factorielle, nous avons choisi d’interpréter les trois premières composantes principales, qui à elles seules expliquent 45 % de la variance totale. Elles offrent un bon compromis entre lisibilité et pertinence pour une visualisation ou une première analyse des relations entre les variables et les genres musicaux (playlist_genre)."
   ]
  },
  {
   "cell_type": "code",
   "execution_count": null,
   "metadata": {
    "vscode": {
     "languageId": "r"
    }
   },
   "outputs": [],
   "source": [
    "# Corrélation des variables\n",
    "corrplot(pca$var$cor, is.corr = FALSE, method = \"ellipse\")\n",
    "\n",
    "# Tracer les variables sur le plan factoriel dim 1-2\n",
    "fviz_pca_var(pca, axes=c(1,2),col.var = \"contrib\", gradient.cols = c(\"#00AFBB\", \"#E7B800\", \"#FC4E07\"), repel = TRUE) +\n",
    "  labs(title = \"Variables sur le plan factoriel\") +\n",
    "  theme_minimal()\n",
    "\n",
    "# Tracer les variables sur le plan factoriel dim 1-3\n",
    "  fviz_pca_var(pca, axes = c(1, 3), col.var = \"contrib\", \n",
    "         gradient.cols = c(\"#00AFBB\", \"#E7B800\", \"#FC4E07\"), \n",
    "         repel = TRUE) +\n",
    "    labs(title = \"Variables sur le plan factoriel (Dim 1-3)\") +\n",
    "    theme_minimal()\n",
    "\n",
    "# Tracer les variables sur le plan factoriel dim 2-3\n",
    "  fviz_pca_var(pca, axes = c(2, 3), col.var = \"contrib\", \n",
    "         gradient.cols = c(\"#00AFBB\", \"#E7B800\", \"#FC4E07\"), \n",
    "         repel = TRUE) +\n",
    "    labs(title = \"Variables sur le plan factoriel (Dim 2-3)\") +\n",
    "    theme_minimal()"
   ]
  },
  {
   "cell_type": "markdown",
   "metadata": {},
   "source": [
    "La table des correlations et les trois graphiques ci-dessus représentent les projections des features sur les trois premières composantes principales nous donne des informations sur la structure des données réduites.\n",
    "\n",
    "**Composante principale 1 :**\n",
    "    \n",
    "Les variables energy (-0.91), loudness (-0.80) et acousticness (+0.72) sont linéairement corrélées avec la première composante principale, en soulignant que energy et loudness sont inversément corrélées avec acousticness. Cela indique que la CP1 oppose les morceaux énergiques, forts en volume et peu acoustiques (ex : rock, électro) aux morceaux calmes, acoustiques et peu énergétiques (ex : folk, classique).\n",
    "\n",
    "**Composante principale 2 :**\n",
    "\n",
    "Sur le graphique de gauche, on remarque une opposition des variables instrumentalness (+0.45), duration_s (+0.38) contre danceability (-0.68), valence (-0.62), track_popularity (-0.37), speechiness (-0.39).\n",
    "\n",
    "Cette composante principale oppose deux profils de morceaux :\n",
    "    D’un côté, les morceaux instrumentaux, longs et peu populaires (forte contribution de instrumentalness et duration_s), souvent associés à des genres comme le classique ou le jazz.\n",
    "    De l’autre, les chansons courtes, dansantes, joyeuses et populaires (forte contribution de danceability, valence et track_popularity), typiques de la pop ou de la musique de club.\n",
    "    Enfin, cette opposition suggère que les morceaux avec des paroles marquées (speechiness) et une structure rythmique engageante (danceability) sont plus susceptibles de générer de la popularité.\n",
    "\n",
    "**Composantes principales 2 et 3 :**\n",
    "\n",
    "Sur le graphique au centre, on peut extraire plusieurs informations :\n",
    "    Les morceaux dansants et joyeux (haute valence) s'opposent dans une moindre mesure aux morceaux de faible tempo. De plus, ces morceaux semblent avoir peu de versions live.\n",
    "    On observe aussi que les morceaux instrumentaux et longs ont généralement une faible popularité, tandis que les morceaux courts et peu instrumentaux sont souvent plus populaires, ce qui est typique de la musique pop, qui est souvent plus accessible et commerciale.\n",
    "\n",
    "**Composante principale 3 :**\n",
    "\n",
    "La troisième composante (CP3) révèle un paradoxe : elle regroupe des morceaux à fort potentiel dansant (danceability) et mood positif (valence), mais qui restent peu populaires (track_popularity). Ces morceaux sont souvent instrumentaux (instrumentalness), longs (duration_s) et à tempo faible (tempo), ce qui les éloigne des standards des charts. Cette composante pourrait représenter des créations artistiques équilibrant danse et complexité, mais peinant à atteindre un large public.\n",
    "\n",
    "**Remarque:** on peut noter que les valeurs ne sont pas exactement les mêmes que sur le notebook Python. L'ACP sous R ne prend pas forcément la même base que sur Python, ce qui explique les valeurs parfois négatives ou positives."
   ]
  },
  {
   "cell_type": "markdown",
   "metadata": {},
   "source": [
    "Pour mieux comprendre à quoi correspond les type morceaux extraits par ces composantes principales, nous allons regarder les morceaux (individus) contribuant le plus à chacune des composantes principales."
   ]
  },
  {
   "cell_type": "code",
   "execution_count": null,
   "metadata": {
    "vscode": {
     "languageId": "r"
    }
   },
   "outputs": [],
   "source": [
    "# Extraction des coordonnées des individus sur la dimension 1\n",
    "dim1_coords <- pca$ind$coord[, 1]\n",
    "\n",
    "# Récupération des indices des 5 valeurs minimales et maximales\n",
    "min_indices <- order(dim1_coords)[1:5]\n",
    "max_indices <- order(dim1_coords, decreasing = TRUE)[1:5]\n",
    "\n",
    "# Sélection complète des individus extrêmes avec toutes leurs caractéristiques\n",
    "extreme_individuals <- song[c(min_indices, max_indices), ]\n",
    "\n",
    "# Ajout d'une colonne pour identifier la catégorie (minimum ou maximum)\n",
    "extreme_individuals$Category <- c(rep(\"Minimum\", 5), rep(\"Maximum\", 5))\n",
    "extreme_individuals$Dim1_Value <- dim1_coords[c(min_indices, max_indices)]\n",
    "\n",
    "# Réorganiser les colonnes pour mettre Category et Dim1_Value au début\n",
    "col_order <- c(\"Category\", \"Dim1_Value\", colnames(extreme_individuals)[1:(ncol(extreme_individuals)-2)])\n",
    "extreme_individuals <- extreme_individuals[, col_order]\n",
    "\n",
    "# Pour une meilleure visualisation en format tableau\n",
    "if (requireNamespace(\"knitr\", quietly = TRUE)) {\n",
    "  knitr::kable(extreme_individuals)\n",
    "}"
   ]
  },
  {
   "cell_type": "markdown",
   "metadata": {},
   "source": [
    "\n",
    "\n",
    "Pour mieux cerner les types de morceaux représentés aux extrémités de la première composante principale (PC1), nous avons identifié les individus (chansons) ayant les contributions les plus élevées, positives comme négatives.\n",
    "\n",
    "    Du côté des contributions positives, on retrouve majoritairement des morceaux rock, hard rock ou pop rock très énergiques et puissants tels que American Idiot (Green Day), Beauty Queen (BLVK SWVN) ou ATTENTION ATTENTION (Shinedown). Ces morceaux sont caractérisés par une énergie élevée, une forte intensité sonore (loudness) et une faible acoustique, ce qui confirme bien la structure mise en évidence par la CP1. Notons aussi This Is How We Do It (Montell Jordan), un morceau R&B énergique, qui se distingue des autres par son genre mais partage les mêmes caractéristiques acoustiques.\n",
    "\n",
    "    À l’opposé, les morceaux à contribution très négative sur PC1 sont des titres à forte acoustique, peu énergiques et très faibles en loudness. Il s'agit notamment de sons ambiants, relaxants ou naturels, comme Peaceful Forest ou Tropical Rainforest at Dawn, mais aussi de titres R&B ou indie très doux (Small de chloe moriondo). Ces morceaux incarnent l'autre extrémité de la CP1 : des chansons calmes, acoustiques et à faible énergie, souvent issues de sous-genres comme tropical, indie poptimism ou new jack swing.\n",
    "\n",
    "Cette opposition renforce l’interprétation de la CP1 comme un axe énergie / intensité sonore vs. calme / acoustique, pertinent pour distinguer deux grandes familles de styles musicaux dans le dataset.\n"
   ]
  },
  {
   "cell_type": "code",
   "execution_count": null,
   "metadata": {
    "vscode": {
     "languageId": "r"
    }
   },
   "outputs": [],
   "source": [
    "# Extraction des coordonnées des individus sur la dimension 2\n",
    "dim2_coords <- pca$ind$coord[, 2]\n",
    "\n",
    "# Récupération des indices des 5 valeurs minimales et maximales\n",
    "min_indices_dim2 <- order(dim2_coords)[1:5]\n",
    "max_indices_dim2 <- order(dim2_coords, decreasing = TRUE)[1:5]\n",
    "\n",
    "# Sélection complète des individus extrêmes avec toutes leurs caractéristiques\n",
    "extreme_individuals_dim2 <- song[c(min_indices_dim2, max_indices_dim2), ]\n",
    "\n",
    "# Ajout d'une colonne pour identifier la catégorie (minimum ou maximum)\n",
    "extreme_individuals_dim2$Category <- c(rep(\"Minimum\", 5), rep(\"Maximum\", 5))\n",
    "extreme_individuals_dim2$Dim2_Value <- dim2_coords[c(min_indices_dim2, max_indices_dim2)]\n",
    "\n",
    "# Réorganiser les colonnes pour mettre Category et Dim2_Value au début\n",
    "col_order <- c(\"Category\", \"Dim2_Value\", colnames(extreme_individuals_dim2)[1:(ncol(extreme_individuals_dim2)-2)])\n",
    "extreme_individuals_dim2 <- extreme_individuals_dim2[, col_order]\n",
    "\n",
    "# Pour une meilleure visualisation en format tableau\n",
    "if (requireNamespace(\"knitr\", quietly = TRUE)) {\n",
    "  knitr::kable(extreme_individuals_dim2)\n",
    "}"
   ]
  },
  {
   "cell_type": "markdown",
   "metadata": {},
   "source": [
    "\n",
    "\n",
    "Côté contributions positives, on retrouve des titres principalement rap et latino, tels que Suge de DaBaby ou LAX de B0nds. Ces morceaux sont :\n",
    "\n",
    "    courts,\n",
    "    dansants (haute danceability),\n",
    "    avec une valence élevée (émotion positive),\n",
    "    mais également avec un certain niveau de speechiness, notamment pour les titres rap.\n",
    "\n",
    "Ces morceaux partagent donc des caractéristiques propres aux chansons énergétiques, rythmées et populaires, souvent taillées pour le streaming, avec des formats courts, accrocheurs et directs.\n",
    "\n",
    "À l’opposé, les morceaux ayant une forte contribution négative à PC2 sont très différents : on retrouve des paysages sonores naturels, ambiants ou instrumentaux comme Rain Forest and Tropical Beach Sound, Caribbean Thunderstorm, ou encore Battlement. Ces titres sont :\n",
    "\n",
    "    longs,\n",
    "    instrumentaux (forte instrumentalness),\n",
    "    avec une faible valence et peu de parole,\n",
    "    et souvent issus de sous-genres comme tropical, album rock, ou ambient.\n",
    "\n",
    "Cela confirme l’interprétation initiale de la PC2 comme un axe opposant la musique instrumentale, longue et contemplative à une musique populaire, dansante et rythmée.\n"
   ]
  },
  {
   "cell_type": "code",
   "execution_count": null,
   "metadata": {
    "vscode": {
     "languageId": "r"
    }
   },
   "outputs": [],
   "source": [
    "# Extraction des coordonnées des individus sur la dimension 3\n",
    "dim3_coords <- pca$ind$coord[, 3]\n",
    "\n",
    "# Récupération des indices des 5 valeurs minimales et maximales\n",
    "min_indices_dim3 <- order(dim3_coords)[1:5]\n",
    "max_indices_dim3 <- order(dim3_coords, decreasing = TRUE)[1:5]\n",
    "\n",
    "# Sélection complète des individus extrêmes avec toutes leurs caractéristiques\n",
    "extreme_individuals_dim3 <- song[c(min_indices_dim3, max_indices_dim3), ]\n",
    "\n",
    "# Ajout d'une colonne pour identifier la catégorie (minimum ou maximum)\n",
    "extreme_individuals_dim3$Category <- c(rep(\"Minimum\", 5), rep(\"Maximum\", 5))\n",
    "extreme_individuals_dim3$Dim3_Value <- dim3_coords[c(min_indices_dim3, max_indices_dim3)]\n",
    "\n",
    "# Réorganiser les colonnes pour mettre Category et Dim3_Value au début\n",
    "col_order <- c(\"Category\", \"Dim3_Value\", colnames(extreme_individuals_dim3)[1:(ncol(extreme_individuals_dim3)-2)])\n",
    "extreme_individuals_dim3 <- extreme_individuals_dim3[, col_order]\n",
    "\n",
    "# Pour une meilleure visualisation en format tableau\n",
    "if (requireNamespace(\"knitr\", quietly = TRUE)) {\n",
    "  knitr::kable(extreme_individuals_dim3)\n",
    "}"
   ]
  },
  {
   "cell_type": "markdown",
   "metadata": {},
   "source": [
    "\n",
    "\n",
    "La troisième composante principale met en lumière une tension plus subtile entre deux types de morceaux aux caractéristiques inattendues.\n",
    "\n",
    "Du côté des contributions négatives, on retrouve des titres de pop et R&B calmes et acoustiques comme raindrops (an angel cried) (Ariana Grande) ou You Are The Reason (Calum Scott). Ces chansons ont :\n",
    "\n",
    "    une acousticness élevée (acapela, guitare acoustique, piano),\n",
    "    un tempo légèrement plus rapide que la médiane des morceaux,\n",
    "    une faible énergie, mais un potentiel émotionnel fort (valence variable).\n",
    "\n",
    "Comme suggéré par la PC3, ces morceaux rencontrent un certain succès, illustrant un profil de chansons émotionnelles, accessibles et bien produites, souvent interprétées par des artistes grand public au style sobre et expressif.\n",
    "\n",
    "Les contributions positives, quant à elles, sont largement dominées par des morceaux EDM ou latino instrumentaux, comme I Feel Love ou Chase. Ces morceaux sont :\n",
    "\n",
    "    longs,\n",
    "    très instrumentaux,\n",
    "    énergiques mais souvent moins \"accessibles\" émotionnellement (valence très élevée mais peu de paroles, structure répétitive).\n",
    "\n",
    "Ils présentent également une popularité extrêmement faible, allant de 0 à 8. Ces productions s’adressent probablement à un public averti ou sont conçues pour des usages spécifiques (DJ sets, ambiances electro), ce qui les éloigne des standards de la musique grand public.\n",
    "\n",
    "Ces observations confirment que la PC3 oppose des créations acoustiques à forte charge émotionnelle à des morceaux instrumentaux, électroniques, longs, aux dynamiques parfois complexes ou répétitives.\n",
    "\n",
    "On remarque le signe des contributions est inversé par rapport à l'analyse en composantes principales (ACP) réalisée sous Python."
   ]
  },
  {
   "cell_type": "markdown",
   "metadata": {},
   "source": [
    "## 2. Réduction de dimension par Analyse en Correspondances Multiples (MCA)"
   ]
  },
  {
   "cell_type": "markdown",
   "metadata": {},
   "source": [
    "## Multiple Factorial Analysis (MCA)\n",
    "\n",
    "**1. Variables catégorielles à utiliser dans la MCA**\n",
    "Voici les variables qualitatives que l'on pourrait envisager d'utiliser pour la MCA sur le dataset Spotify :  \n",
    "- `track_artist`  \n",
    "- `track_album_name` (attention à trop de modalités rares, peut-être garder que les plus fréquentes ou ne pas inclure à cause du grand nombre d’artistes)  \n",
    "- `playlist_name`  \n",
    "- `playlist_genre`  \n",
    "- `playlist_subgenre`  \n",
    "- `key`  \n",
    "- `mode`  \n",
    "\n",
    "---\n",
    "\n",
    "**2. Questions que la MCA peut aider à explorer**\n",
    "\n",
    "**a) Quels sont les groupes/cluster de modalités similaires ?**\n",
    "- Est-ce que certains genres et sous-genres de playlists s’associent fréquemment ?  \n",
    "- Certains \"modes\" (majeur/minor) sont-ils plus fréquents dans certains genres ?  \n",
    "- Y a-t-il des clés (`key`) musicales qui sont typiques de certains genres ou playlists ?  \n",
    "\n",
    "La MCA permettra de représenter graphiquement (biplot) ces modalités et d’identifier des associations fortes.\n",
    "\n",
    "**b) Est-ce que certains artistes ou playlists ont un profil qualitatif particulier ?**\n",
    "- Par exemple, certains artistes seraient-ils associés à un genre et sous-genre spécifiques, ou à un mode particulier ?  \n",
    "- Y a-t-il des clusters d’artistes / playlists qui partagent des caractéristiques particulières (clé, mode, genre) ?\n",
    "\n",
    "**3. Comment interpréter la MCA ici**\n",
    "\n",
    "- **Axes factoriels** : Chaque axe correspond à une dimension qui résume des associations fortes entre modalités. Par exemple, un axe peut opposer les genres \"Rock\" à \"Pop\", ou des clés majeures à mineures.\n",
    "- **Modalités proches dans l’espace** : Modalités proches signifient qu’elles co-apparaissent souvent dans les observations (ex. certains genres + mode majeur).\n",
    "- **Observation** : Si tu represents les observations (chansons) dans l’espace MCA, celles proches partagent des profils catégoriels similaires.\n",
    "\n",
    "---\n",
    "\n",
    "**4. Utilisations concrètes/academic use cases**\n",
    "\n",
    "- **Profil des genres musicaux** : Comprendre quels modes/clés/sous-genres caractérisent les genres populaires sur Spotify.  \n",
    "- **Segmentation qualitative des playlists** : Y a-t-il des types de playlists/musiques qui partagent des caractéristiques qualitatives communes ?  \n",
    "- **Analyse de diversité** : Mesurer dans quelle mesure certains artistes/genres sont hétérogènes ou homogènes quant à leurs caractéristiques catégorielles.  \n",
    "- **Préparation à une classification** : Par exemple, combiner le résultat de la PCA (variables numériques) avec la MCA (variables qualitatives) dans une analyse factorielle mixte ou pour enrichir un modèle prédictif.\n",
    "\n",
    "---\n",
    "\n",
    "**5. Exemple de questions précises à poser**\n",
    "\n",
    "- Les genres musicaux sont-ils liés à certaines tonalités ou modes ?  \n",
    "- Les sous-genres présents dans la même playlist sont-ils proches ou éloignés dans l’espace MCA ?  \n",
    "- Y a-t-il des clés rares ou des modes minoritaires associés à certains genres uniquement ?  \n",
    "- Peut-on détecter des groupes de playlists ou artistes avec des profils qualitatifs similaires ?  \n",
    "\n",
    "---\n",
    "\n",
    "**En conclusion**\n",
    "La MCA t’aide surtout à **explorer et visualiser les relations entre variables qualitatives** et leurs modalités sur ton dataset Spotify, ce qui complète bien la PCA sur les variables numériques. C’est une étape utile pour comprendre la structure qualitative de tes données avant d’envisager une modélisation supervisée ou une analyse plus approfondie.\n",
    "\n",
    "---\n",
    "\n",
    "Si tu veux, je peux aussi te fournir un exemple de code Python pour réaliser une MCA avec `prince` ou en R avec `FactoMineR` sur ton dataset."
   ]
  },
  {
   "cell_type": "code",
   "execution_count": null,
   "metadata": {
    "vscode": {
     "languageId": "r"
    }
   },
   "outputs": [],
   "source": [
    "#MCA avec FactoMineR sur les variables playlist_genre et mode\n",
    "#song_mca conserve uniquement les variables playlist_genre et mode\n",
    "song_mca <- song[, c('playlist_genre', 'mode')]\n",
    "# Perform MCA\n",
    "mca <- MCA(song_mca, graph = FALSE, ncp = 2)\n",
    "\n",
    "#Tracer les variables sur le plan factoriel\n",
    "fviz_mca_var(mca, col.var = \"contrib\", gradient.cols = c(\"#00AFBB\", \"#E7B800\", \"#FC4E07\"), \n",
    "             repel = TRUE) +\n",
    "  labs(title = \"Variables sur le plan factoriel\") +\n",
    "  theme_minimal()\n"
   ]
  },
  {
   "cell_type": "code",
   "execution_count": null,
   "metadata": {
    "vscode": {
     "languageId": "r"
    }
   },
   "outputs": [],
   "source": []
  },
  {
   "cell_type": "markdown",
   "metadata": {},
   "source": [
    "Clustering"
   ]
  },
  {
   "cell_type": "code",
   "execution_count": null,
   "metadata": {
    "vscode": {
     "languageId": "r"
    }
   },
   "outputs": [],
   "source": [
    "# Sélection des variables numériques pour l'ACP sur onlysongs\n",
    "onlysongs_pca_data <- onlysongs %>%\n",
    "    select(track_popularity, danceability, energy, loudness, speechiness, acousticness, instrumentalness, liveness, valence, tempo, duration_s)\n",
    "\n",
    "# Réalisation de l'ACP avec centrage et réduction\n",
    "onlysongs_pca <- PCA(onlysongs_pca_data, scale.unit = TRUE, graph = TRUE)\n",
    "\n",
    "# Affichage du pourcentage de variance expliquée par chaque composante principale\n",
    "fviz_eig(onlysongs_pca, addlabels = TRUE, ylim = c(0, 40))"
   ]
  },
  {
   "cell_type": "code",
   "execution_count": null,
   "metadata": {
    "vscode": {
     "languageId": "r"
    }
   },
   "outputs": [],
   "source": [
    "# Affichage des individus sur les plans factoriels (Dim 1-2, 2-3, 1-3) pour l'ACP onlysongs\n",
    "fviz_pca_ind(onlysongs_pca, \n",
    "             geom = \"point\", \n",
    "             col.ind = \"cos2\", # Coloration selon la qualité de représentation\n",
    "             gradient.cols = c(\"#00AFBB\", \"#E7B800\", \"#FC4E07\"),\n",
    "             repel = TRUE) +\n",
    "  labs(title = \"Projection des individus sur le plan factoriel (Dim 1-2)\") +\n",
    "  theme_minimal()\n",
    "\n",
    "fviz_pca_ind(onlysongs_pca, \n",
    "             axes = c(2, 3),\n",
    "             geom = \"point\", \n",
    "             col.ind = \"cos2\",\n",
    "             gradient.cols = c(\"#00AFBB\", \"#E7B800\", \"#FC4E07\"),\n",
    "             repel = TRUE) +\n",
    "  labs(title = \"Projection des individus sur le plan factoriel (Dim 2-3)\") +\n",
    "  theme_minimal()\n",
    "\n",
    "fviz_pca_ind(onlysongs_pca, \n",
    "             axes = c(1, 3),\n",
    "             geom = \"point\", \n",
    "             col.ind = \"cos2\",\n",
    "             gradient.cols = c(\"#00AFBB\", \"#E7B800\", \"#FC4E07\"),\n",
    "             repel = TRUE) +\n",
    "  labs(title = \"Projection des individus sur le plan factoriel (Dim 1-3)\") +\n",
    "  theme_minimal()"
   ]
  },
  {
   "cell_type": "markdown",
   "metadata": {},
   "source": [
    "Entre R et python la dim 3 est inversée"
   ]
  },
  {
   "cell_type": "code",
   "execution_count": null,
   "metadata": {
    "vscode": {
     "languageId": "r"
    }
   },
   "outputs": [],
   "source": [
    "# Vérifier le nombre de composantes principales disponibles\n",
    "n_components <- ncol(onlysongs_pca$ind$coord)\n",
    "\n",
    "# Méthode du coude (elbow method) pour déterminer le nombre optimal de clusters sur les coordonnées PCA de onlysongs\n",
    "set.seed(42)\n",
    "k_values <- 2:10\n",
    "inertia_pca_onlysongs <- numeric(length(k_values))\n",
    "# Utilisation des 7 premières composantes principales\n",
    "pca_coords <- onlysongs_pca$ind$coord[, 1:n_components]\n",
    "\n",
    "for (i in seq_along(k_values)) {\n",
    "    k <- k_values[i]\n",
    "    kmeans_result <- kmeans(pca_coords, centers = k, nstart = 25)\n",
    "    inertia_pca_onlysongs[i] <- kmeans_result$tot.withinss\n",
    "}\n",
    "\n",
    "plot(k_values, inertia_pca_onlysongs, type = \"b\", pch = 19, col = \"blue\",\n",
    "     xlab = \"Nombre de clusters (k)\", ylab = \"Inertie intra-cluster\",\n",
    "     main = \"Méthode du coude (K-means sur PCA onlysongs)\",\n",
    "     xlim = c(min(k_values) - 1, max(k_values) + 1))  # Élargir légèrement la plage de l'axe des abscisses"
   ]
  },
  {
   "cell_type": "code",
   "execution_count": null,
   "metadata": {
    "vscode": {
     "languageId": "r"
    }
   },
   "outputs": [],
   "source": [
    "# K-means sur les coordonnées PCA de onlysongs avec k = 5 clusters\n",
    "set.seed(42)\n",
    "kmeans_pca_onlysongs <- kmeans(onlysongs_pca$ind$coord[, 1:n_components], centers = 5, nstart = 25)\n",
    "\n",
    "# Ajout des labels de cluster au dataset onlysongs\n",
    "onlysongs$kmeans_pca_cluster <- as.factor(kmeans_pca_onlysongs$cluster)\n",
    "\n",
    "# Visualisation des clusters sur les deux premières composantes principales\n",
    "fviz_pca_ind(onlysongs_pca, \n",
    "             geom = \"point\", \n",
    "             col.ind = onlysongs$kmeans_pca_cluster, \n",
    "             palette = \"jco\", \n",
    "             addEllipses = TRUE) +\n",
    "  labs(title = \"K-means (k=5) sur ACP onlysongs (projection Dim 1-2)\") +\n",
    "  theme_minimal()\n",
    "\n",
    "#affichage sur les dimensions principales 2-3\n",
    "fviz_pca_ind(onlysongs_pca, \n",
    "             axes = c(2, 3),\n",
    "             geom = \"point\", \n",
    "             col.ind = onlysongs$kmeans_pca_cluster, \n",
    "             palette = \"jco\", \n",
    "             addEllipses = TRUE) +\n",
    "    labs(title = \"K-means (k=5) sur ACP onlysongs (projection Dim 2-3)\") +\n",
    "    theme_minimal()\n",
    "\n",
    "#affichage sur les dimensions principales 1-3\n",
    "fviz_pca_ind(onlysongs_pca, \n",
    "             axes = c(1, 3),\n",
    "             geom = \"point\", \n",
    "             col.ind = onlysongs$kmeans_pca_cluster, \n",
    "             palette = \"jco\", \n",
    "             addEllipses = TRUE) +\n",
    "    labs(title = \"K-means (k=5) sur ACP onlysongs (projection Dim 1-3)\") +\n",
    "    theme_minimal()"
   ]
  },
  {
   "cell_type": "code",
   "execution_count": null,
   "metadata": {
    "vscode": {
     "languageId": "r"
    }
   },
   "outputs": [],
   "source": [
    "# Passage au format long pour ggplot, en utilisant les clusters obtenus précédemment (kmeans_pca_cluster)\n",
    "onlysongs_long <- melt(\n",
    "    cbind(onlysongs[, c(\"kmeans_pca_cluster\")], onlysongs_pca_data),\n",
    "    id.vars = \"kmeans_pca_cluster\"\n",
    ")\n",
    "\n",
    "# Affichage des boxplots pour chaque variable par cluster\n",
    "ggplot(onlysongs_long, aes(x = kmeans_pca_cluster, y = value, fill = kmeans_pca_cluster)) +\n",
    "    geom_boxplot(outlier.size = 0.5) +\n",
    "    facet_wrap(~ variable, scales = \"free_y\") +\n",
    "    labs(title = \"Boxplots des variables quantitatives par cluster (K-means PCA onlysongs)\",\n",
    "         x = \"Cluster\", y = \"Valeur\") +\n",
    "    theme_minimal() +\n",
    "    theme(legend.position = \"none\")\n",
    "\n",
    "#agrandir beaucoup la taille des graphes\n",
    "options(repr.plot.width=40, repr.plot.height=20)"
   ]
  },
  {
   "cell_type": "code",
   "execution_count": null,
   "metadata": {
    "vscode": {
     "languageId": "r"
    }
   },
   "outputs": [],
   "source": [
    "# Fusionner song avec les clusters de onlysongs (sur track_name et track_artist)\n",
    "song_with_cluster <- song %>%\n",
    "    left_join(onlysongs[, c(\"track_name\", \"track_artist\", \"kmeans_pca_cluster\")], \n",
    "              by = c(\"track_name\", \"track_artist\"))\n",
    "\n",
    "# Retirer les musiques qui n'ont pas de cluster\n",
    "song_with_cluster_noNA <- song_with_cluster %>%\n",
    "    filter(!is.na(kmeans_pca_cluster))\n",
    "\n",
    "# Afficher un aperçu du résultat\n",
    "head(song_with_cluster_noNA[, c(\"track_name\", \"track_artist\", \"kmeans_pca_cluster\")])\n",
    "\n",
    "#affichage du nombre de données total\n",
    "cat(\"Nombre total de données dans song_with_cluster_noNA :\", nrow(song_with_cluster_noNA), \"\\n\")\n"
   ]
  },
  {
   "cell_type": "code",
   "execution_count": null,
   "metadata": {
    "vscode": {
     "languageId": "r"
    }
   },
   "outputs": [],
   "source": [
    "# Création d'une table de contingence : nombre de musiques genre et par cluster\n",
    "heatmap_data <- song_with_cluster_noNA %>%\n",
    "    group_by(kmeans_pca_cluster, playlist_genre) %>%\n",
    "    summarise(count = n(), .groups = \"drop\")\n",
    "\n",
    "# Conversion en matrice pour la heatmap\n",
    "heatmap_matrix <- reshape2::acast(heatmap_data, playlist_genre ~ kmeans_pca_cluster, value.var = \"count\", fill = 0)\n",
    "\n",
    "# Création de la heatmap avec ggplot2 (format long)\n",
    "heatmap_long <- as.data.frame(as.table(heatmap_matrix))\n",
    "colnames(heatmap_long) <- c(\"playlist_genre\", \"kmeans_pca_cluster\", \"count\")\n",
    "\n",
    "ggplot(heatmap_long, aes(x = kmeans_pca_cluster, y = playlist_genre, fill = count)) +\n",
    "    geom_tile(color = \"white\") +\n",
    "    geom_text(aes(label = count), color = \"black\", size = 10) +\n",
    "    scale_fill_gradient(low = \"white\", high = \"steelblue\") +\n",
    "    labs(title = \"Nombre de musiques par sous-genre et par cluster\",\n",
    "         x = \"Cluster\",\n",
    "         y = \"Sous-genre\",\n",
    "         fill = \"Nombre\") +\n",
    "    theme_minimal() +\n",
    "    theme(axis.text.x = element_text(angle = 45, hjust = 1, size = 20),\n",
    "          axis.text.y = element_text(size = 20))"
   ]
  },
  {
   "cell_type": "code",
   "execution_count": null,
   "metadata": {
    "vscode": {
     "languageId": "r"
    }
   },
   "outputs": [],
   "source": [
    "# Création d'une table de contingence : nombre de musiques par sous-genre et par cluster\n",
    "heatmap_data <- song_with_cluster_noNA %>%\n",
    "    group_by(kmeans_pca_cluster, playlist_subgenre) %>%\n",
    "    summarise(count = n(), .groups = \"drop\")\n",
    "\n",
    "# Conversion en matrice pour la heatmap\n",
    "heatmap_matrix <- reshape2::acast(heatmap_data, playlist_subgenre ~ kmeans_pca_cluster, value.var = \"count\", fill = 0)\n",
    "\n",
    "# Création de la heatmap avec ggplot2 (format long)\n",
    "heatmap_long <- as.data.frame(as.table(heatmap_matrix))\n",
    "colnames(heatmap_long) <- c(\"playlist_subgenre\", \"kmeans_pca_cluster\", \"count\")\n",
    "\n",
    "ggplot(heatmap_long, aes(x = kmeans_pca_cluster, y = playlist_subgenre, fill = count)) +\n",
    "    geom_tile(color = \"white\") +\n",
    "    geom_text(aes(label = count), color = \"black\", size = 10) +\n",
    "    scale_fill_gradient(low = \"white\", high = \"steelblue\") +\n",
    "    labs(title = \"Nombre de musiques par sous-genre et par cluster\",\n",
    "         x = \"Cluster\",\n",
    "         y = \"Sous-genre\",\n",
    "         fill = \"Nombre\") +\n",
    "    theme_minimal() +\n",
    "    theme(axis.text.x = element_text(angle = 45, hjust = 1, size = 20),\n",
    "          axis.text.y = element_text(size = 20))\n"
   ]
  },
  {
   "cell_type": "code",
   "execution_count": null,
   "metadata": {
    "vscode": {
     "languageId": "r"
    }
   },
   "outputs": [],
   "source": [
    "# Critère BIC pour déterminer le nombre optimal de composantes pour une GMM sur onlysongs_pca_data\n",
    "library(mclust)\n",
    "\n",
    "# Appliquer la GMM sur les données PCA (centrées et réduites)\n",
    "gmm_model <- Mclust(onlysongs_pca_data, G = 1:10)  # G = nombre de clusters testés\n",
    "\n",
    "# Afficher le BIC pour chaque nombre de clusters\n",
    "plot(gmm_model, what = \"BIC\")\n",
    "\n",
    "# Nombre optimal de clusters selon le BIC\n",
    "cat(\"Nombre optimal de clusters selon le BIC :\", gmm_model$G, \"\\n\")"
   ]
  },
  {
   "cell_type": "code",
   "execution_count": null,
   "metadata": {
    "vscode": {
     "languageId": "r"
    }
   },
   "outputs": [],
   "source": [
    "# Appliquer la GMM sur les données PCA (centrées et réduites) avec 9 clusters\n",
    "#Applique le modèle VEI (variance égale, covariance identique) sur les données PCA\n",
    "gmm_9 <- Mclust(onlysongs_pca_data, G = 9, modelNames = \"VEI\")  # G = nombre de clusters\n",
    "\n",
    "# Ajouter les labels de cluster GMM au dataset onlysongs\n",
    "onlysongs$gmm_cluster <- as.factor(gmm_9$classification)\n",
    "\n",
    "# Afficher un résumé du modèle GMM\n",
    "summary(gmm_9)\n",
    "\n",
    "# Afficher la répartition des chansons par cluster GMM\n",
    "table(onlysongs$gmm_cluster)\n",
    "\n",
    "# Affichage des clusters GMM sur les dimensions principales 1-2 sans ellipses, juste des points colorés\n",
    "fviz_pca_ind(onlysongs_pca, \n",
    "             geom = \"point\", \n",
    "             col.ind = onlysongs$gmm_cluster, \n",
    "             palette = \"jco\", \n",
    "             addEllipses = TRUE, # Pas d'ellipses\n",
    "             pointshape = 19, \n",
    "             pointsize = 2, \n",
    "             alpha.ind = 0.7) +\n",
    "  labs(title = \"GMM (k=9) sur ACP onlysongs (projection Dim 1-2) - sans ellipses\") +\n",
    "  theme_minimal()"
   ]
  },
  {
   "cell_type": "code",
   "execution_count": null,
   "metadata": {
    "vscode": {
     "languageId": "r"
    }
   },
   "outputs": [],
   "source": [
    "# Fusionner les clusters GMM avec les données song (sur track_name et track_artist)\n",
    "song_with_gmm_cluster <- song %>%\n",
    "    left_join(onlysongs[, c(\"track_name\", \"track_artist\", \"gmm_cluster\")], \n",
    "              by = c(\"track_name\", \"track_artist\"))\n",
    "\n",
    "# Afficher un aperçu du résultat\n",
    "head(song_with_gmm_cluster[, c(\"track_name\", \"track_artist\", \"gmm_cluster\")])"
   ]
  },
  {
   "cell_type": "code",
   "execution_count": null,
   "metadata": {
    "vscode": {
     "languageId": "r"
    }
   },
   "outputs": [],
   "source": [
    "#création d'une table de contingence : nombre de musiques par genre et par cluster\n",
    "heatmap_data_gmm <- song_with_gmm_cluster %>%\n",
    "    group_by(gmm_cluster, playlist_genre) %>%\n",
    "    summarise(count = n(), .groups = \"drop\")\n",
    "\n",
    "# Conversion en matrice pour la heatmap\n",
    "heatmap_matrix_gmm <- reshape2::acast(heatmap_data_gmm, playlist_genre ~ gmm_cluster, value.var = \"count\", fill = 0)\n",
    "\n",
    "# Création de la heatmap avec ggplot2 (format long)\n",
    "heatmap_long_gmm <- as.data.frame(as.table(heatmap_matrix_gmm))\n",
    "colnames(heatmap_long_gmm) <- c(\"playlist_genre\", \"gmm_cluster\", \"count\")\n",
    "ggplot(heatmap_long_gmm, aes(x = gmm_cluster, y = playlist_genre, fill = count)) +\n",
    "    geom_tile(color = \"white\") +\n",
    "    geom_text(aes(label = count), color = \"black\", size = 10) +\n",
    "    scale_fill_gradient(low = \"white\", high = \"steelblue\") +\n",
    "    labs(title = \"Nombre de musiques par genre et par cluster GMM\",\n",
    "         x = \"Cluster\",\n",
    "         y = \"Sous-genre\",\n",
    "         fill = \"Nombre\") +\n",
    "    theme_minimal() +\n",
    "    theme(axis.text.x = element_text(angle = 45, hjust = 1, size = 20),\n",
    "          axis.text.y = element_text(size = 20))"
   ]
  },
  {
   "cell_type": "code",
   "execution_count": null,
   "metadata": {
    "vscode": {
     "languageId": "r"
    }
   },
   "outputs": [],
   "source": [
    "# Création d'une table de contingence : nombre de musiques par sous-genre et par cluster GMM\n",
    "heatmap_data_gmm <- song_with_gmm_cluster %>%\n",
    "    filter(!is.na(gmm_cluster)) %>%\n",
    "    group_by(gmm_cluster, playlist_subgenre) %>%\n",
    "    summarise(count = n(), .groups = \"drop\")\n",
    "\n",
    "# Conversion en matrice pour la heatmap\n",
    "heatmap_matrix_gmm <- reshape2::acast(heatmap_data_gmm, playlist_subgenre ~ gmm_cluster, value.var = \"count\", fill = 0)\n",
    "\n",
    "# Format long pour ggplot2\n",
    "heatmap_long_gmm <- as.data.frame(as.table(heatmap_matrix_gmm))\n",
    "colnames(heatmap_long_gmm) <- c(\"playlist_subgenre\", \"gmm_cluster\", \"count\")\n",
    "\n",
    "ggplot(heatmap_long_gmm, aes(x = gmm_cluster, y = playlist_subgenre, fill = count)) +\n",
    "    geom_tile(color = \"white\") +\n",
    "    geom_text(aes(label = count), color = \"black\", size = 10) +\n",
    "    scale_fill_gradient(low = \"white\", high = \"steelblue\") +\n",
    "    labs(title = \"Nombre de musiques par sous-genre et par cluster GMM\",\n",
    "         x = \"Cluster GMM\",\n",
    "         y = \"Sous-genre\",\n",
    "         fill = \"Nombre\") +\n",
    "    theme_minimal() +\n",
    "    theme(axis.text.x = element_text(angle = 45, hjust = 1, size = 20),\n",
    "          axis.text.y = element_text(size = 20))"
   ]
  },
  {
   "cell_type": "code",
   "execution_count": null,
   "metadata": {
    "vscode": {
     "languageId": "r"
    }
   },
   "outputs": [],
   "source": [
    "# Calcul de la matrice de distance euclidienne sur onlysongs_pca_data\n",
    "dist_matrix <- dist(onlysongs_pca_data, method = \"euclidean\")\n",
    "\n",
    "# Réalisation de la classification hiérarchique avec la méthode de Ward\n",
    "hc_ward <- hclust(dist_matrix, method = \"ward.D2\")\n",
    "\n",
    "# Affichage du dendrogramme\n",
    "plot(hc_ward, labels = FALSE, hang = -1, main = \"Dendrogramme (méthode de Ward)\", xlab = \"\", ylab = \"Hauteur\")"
   ]
  },
  {
   "cell_type": "code",
   "execution_count": null,
   "metadata": {
    "vscode": {
     "languageId": "r"
    }
   },
   "outputs": [],
   "source": [
    "# Choix du nombre de clusters à découper dans le dendrogramme (par exemple, 3)\n",
    "n_clusters <- 3\n",
    "ward_clusters <- cutree(hc_ward, k = n_clusters)\n",
    "\n",
    "# Ajout des labels de cluster au dataset onlysongs\n",
    "onlysongs$ward_cluster <- as.factor(ward_clusters)\n",
    "\n",
    "# Visualisation des clusters Ward sur les deux premières composantes principales de l'ACP\n",
    "fviz_pca_ind(onlysongs_pca, \n",
    "             geom = \"point\", \n",
    "             col.ind = onlysongs$ward_cluster, \n",
    "             palette = \"jco\", \n",
    "             addEllipses = TRUE) +\n",
    "  labs(title = \"Classification hiérarchique de Ward (k=5) sur ACP onlysongs (projection Dim 1-2)\") +\n",
    "  theme_minimal()"
   ]
  },
  {
   "cell_type": "code",
   "execution_count": null,
   "metadata": {
    "vscode": {
     "languageId": "r"
    }
   },
   "outputs": [],
   "source": [
    "# Fusionner les clusters Ward avec les données song (sur track_name et track_artist)\n",
    "song_with_ward_cluster <- song %>%\n",
    "    left_join(onlysongs[, c(\"track_name\", \"track_artist\", \"ward_cluster\")], \n",
    "              by = c(\"track_name\", \"track_artist\"))\n",
    "\n",
    "# Afficher un aperçu du résultat\n",
    "head(song_with_ward_cluster[, c(\"track_name\", \"track_artist\", \"ward_cluster\")])"
   ]
  },
  {
   "cell_type": "code",
   "execution_count": null,
   "metadata": {
    "vscode": {
     "languageId": "r"
    }
   },
   "outputs": [],
   "source": [
    "#création d'une table de contingence : nombre de musiques par genre et par cluster\n",
    "heatmap_data_ward <- song_with_ward_cluster %>%\n",
    "    group_by(ward_cluster, playlist_genre) %>%\n",
    "    summarise(count = n(), .groups = \"drop\")\n",
    "\n",
    "# Conversion en matrice pour la heatmap\n",
    "heatmap_matrix_ward <- reshape2::acast(heatmap_data_ward, playlist_genre ~ ward_cluster, value.var = \"count\", fill = 0)\n",
    "\n",
    "# Création de la heatmap avec ggplot2 (format long)\n",
    "heatmap_long_ward <- as.data.frame(as.table(heatmap_matrix_ward))\n",
    "colnames(heatmap_long_ward) <- c(\"playlist_genre\", \"ward_cluster\", \"count\")\n",
    "\n",
    "ggplot(heatmap_long_ward, aes(x = ward_cluster, y = playlist_genre, fill = count)) +\n",
    "    geom_tile(color = \"white\") +\n",
    "    geom_text(aes(label = count), color = \"black\", size = 10) +\n",
    "    scale_fill_gradient(low = \"white\", high = \"steelblue\") +\n",
    "    labs(title = \"Nombre de musiques par genre et par cluster Ward\",\n",
    "         x = \"Cluster\",\n",
    "         y = \"Sous-genre\",\n",
    "         fill = \"Nombre\") +\n",
    "    theme_minimal() +\n",
    "    theme(axis.text.x = element_text(angle = 45, hjust = 1, size = 20),\n",
    "          axis.text.y = element_text(size = 20))"
   ]
  },
  {
   "cell_type": "code",
   "execution_count": null,
   "metadata": {
    "vscode": {
     "languageId": "r"
    }
   },
   "outputs": [],
   "source": [
    "# Création d'une table de contingence : nombre de musiques par sous-genre et par cluster Ward\n",
    "heatmap_data_ward <- song_with_ward_cluster %>%\n",
    "    group_by(ward_cluster, playlist_subgenre) %>%\n",
    "    summarise(count = n(), .groups = \"drop\")\n",
    "\n",
    "# Conversion en matrice pour la heatmap\n",
    "heatmap_matrix_ward <- reshape2::acast(heatmap_data_ward, playlist_subgenre ~ ward_cluster, value.var = \"count\", fill = 0)\n",
    "\n",
    "# Format long pour ggplot2\n",
    "heatmap_long_ward <- as.data.frame(as.table(heatmap_matrix_ward))\n",
    "colnames(heatmap_long_ward) <- c(\"playlist_subgenre\", \"ward_cluster\", \"count\")\n",
    "\n",
    "ggplot(heatmap_long_ward, aes(x = ward_cluster, y = playlist_subgenre, fill = count)) +\n",
    "    geom_tile(color = \"white\") +\n",
    "    geom_text(aes(label = count), color = \"black\", size = 10) +\n",
    "    scale_fill_gradient(low = \"white\", high = \"steelblue\") +\n",
    "    labs(title = \"Nombre de musiques par sous-genre et par cluster Ward\",\n",
    "         x = \"Cluster Ward\",\n",
    "         y = \"Sous-genre\",\n",
    "         fill = \"Nombre\") +\n",
    "    theme_minimal() +\n",
    "    theme(axis.text.x = element_text(angle = 45, hjust = 1, size = 20),\n",
    "          axis.text.y = element_text(size = 20))"
   ]
  },
  {
   "cell_type": "code",
   "execution_count": null,
   "metadata": {
    "vscode": {
     "languageId": "r"
    }
   },
   "outputs": [],
   "source": []
  }
 ],
 "metadata": {
  "kernelspec": {
   "display_name": "R",
   "language": "R",
   "name": "ir"
  },
  "language_info": {
   "codemirror_mode": "r",
   "file_extension": ".r",
   "mimetype": "text/x-r-source",
   "name": "R",
   "pygments_lexer": "r",
   "version": "4.4.3"
  }
 },
 "nbformat": 4,
 "nbformat_minor": 2
}
