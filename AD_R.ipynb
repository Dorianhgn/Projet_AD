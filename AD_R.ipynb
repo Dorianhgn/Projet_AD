{
 "cells": [
  {
   "cell_type": "markdown",
   "metadata": {},
   "source": [
    "## Data preprocessing"
   ]
  },
  {
   "cell_type": "code",
   "execution_count": null,
   "metadata": {
    "vscode": {
     "languageId": "r"
    }
   },
   "outputs": [],
   "source": [
    "# Chargement des librairies nécessaires\n",
    "library(ggplot2)\n",
    "library(tidyverse)\n",
    "library(gridExtra)\n",
    "library(GGally)\n",
    "library(plotly)\n",
    "library(corrplot)\n",
    "library(reshape2)\n",
    "library(FactoMineR) \n",
    "library(factoextra)\n",
    "library(glmnet) \n",
    "library(ggfortify)\n",
    "library(pROC)\n",
    "library(ROCR)\n",
    "library(ggpubr)"
   ]
  },
  {
   "cell_type": "code",
   "execution_count": null,
   "metadata": {
    "vscode": {
     "languageId": "r"
    }
   },
   "outputs": [],
   "source": [
    "# Lecture des données\n",
    "path <- \"data/\"\n",
    "song <- read.csv(paste0(path, \"spotify_songs.csv\"), header = TRUE, sep = \",\")\n",
    "\n",
    "# Premières lignes du jeu de données\n",
    "head(song)\n",
    "\n",
    "# Vérification du contenu\n",
    "summary(song)"
   ]
  },
  {
   "cell_type": "code",
   "execution_count": null,
   "metadata": {
    "vscode": {
     "languageId": "r"
    }
   },
   "outputs": [],
   "source": [
    "# Check the data types\n",
    "str(song)"
   ]
  },
  {
   "cell_type": "code",
   "execution_count": null,
   "metadata": {
    "vscode": {
     "languageId": "r"
    }
   },
   "outputs": [],
   "source": [
    "# Drop the track_id, track_album_id, playlist_id columns\n",
    "song <- song[, -c(1, 5, 9)]\n",
    "\n",
    "# As factor the categorical variables track_artist, playlist_genre, playlist_subgenre, key, mode, playlist_name, track_album_name\n",
    "song$playlist_name <- as.factor(song$playlist_name)\n",
    "song$track_album_name <- as.factor(song$track_album_name)\n",
    "song$track_artist <- as.factor(song$track_artist)\n",
    "song$playlist_genre <- as.factor(song$playlist_genre)\n",
    "song$playlist_subgenre <- as.factor(song$playlist_subgenre)\n",
    "song$key <- factor(song$key, levels = c(-1, 0:11), labels = c(\"No key detected\", \"C\", \"C♯/D♭\", \"D\", \"D♯/E♭\", \"E\", \"F\", \"F♯/G♭\", \"G\", \"G♯/A♭\", \"A\", \"A♯/B♭\", \"B\"))\n",
    "song$mode <- factor(song$mode, levels = c(0, 1), labels = c(\"minor\", \"major\"))\n",
    "\n",
    "# track_album_release_date to date (if the full date is not available, we will use the first day of the year)\n",
    "song$track_album_release_date <- as.Date(ifelse(nchar(song$track_album_release_date) != 10, \n",
    "                                                paste0(substr(song$track_album_release_date, 1, 4), \"-01-01\"), \n",
    "                                                song$track_album_release_date), \n",
    "                                         format = \"%Y-%m-%d\")\n",
    "\n",
    "# Convert the duration_ms to seconds and rename the column to duration_s\n",
    "song$duration_s <- song$duration_ms / 1000\n",
    "song$duration_ms <- NULL\n",
    "\n",
    "# Check the modified dataset\n",
    "summary(song)\n",
    "head(song)"
   ]
  },
  {
   "cell_type": "code",
   "execution_count": null,
   "metadata": {
    "vscode": {
     "languageId": "r"
    }
   },
   "outputs": [],
   "source": [
    "# Check for missing values\n",
    "colSums(is.na(song))\n",
    "\n",
    "# Drop the missing values\n",
    "song <- na.omit(song)\n",
    "\n",
    "# Check the modified dataset\n",
    "colSums(is.na(song))\n",
    "\n",
    "str(song)"
   ]
  },
  {
   "cell_type": "markdown",
   "metadata": {},
   "source": [
    "## 2. Réduction de dimension par Analyse en Composantes Principales (ACP)"
   ]
  },
  {
   "cell_type": "markdown",
   "metadata": {},
   "source": [
    "Dans cette partie, nous allons effectuer une analyse en composantes principales (ACP) sur les données prétraitées. L'ACP est une technique de réduction de dimension qui permet de projeter les données d'origine dans un espace de dimension inférieure. Nous avons gardé 20 variables et nous allons étudier s'il est possible de réduire la dimensionnalité de ces données tout en préservant un maximum d'information."
   ]
  },
  {
   "cell_type": "markdown",
   "metadata": {},
   "source": [
    "### 2.1. Format des données"
   ]
  },
  {
   "cell_type": "markdown",
   "metadata": {},
   "source": [
    "Ici on ne sélectionne que les variables quantitatives, en y ajoutant une variable qualitative (playlist_genre) pour voir si elle a un impact sur la projection des données. On garde au final 11 variables quantitatives et 1 variable qualitative.\n",
    "\n",
    "On décide de normaliser les données avant de faire l'ACP car l'ACP est sensible à l'échelle des variables. On va donc centrer et réduire les données."
   ]
  },
  {
   "cell_type": "code",
   "execution_count": null,
   "metadata": {
    "vscode": {
     "languageId": "r"
    }
   },
   "outputs": [],
   "source": [
    "# PCA analysis using FactoMineR\n",
    "song_pca <- song[, c(3, 7, 9:10, 12, 14:20)]\n",
    "\n",
    "# Perform PCA\n",
    "pca <- PCA(song_pca,scale.unit = TRUE, graph = FALSE,ncp = 7,quali.sup = 2)\n",
    "\n",
    "# Afficher le pourcentage de variance expliquée par chaque composante principale\n",
    "fviz_eig(pca, addlabels = TRUE, ylim = c(0, 40))\n",
    "\n",
    "# Calculer la variance cumulée\n",
    "explained_variance <- pca$eig[, 2]  # La deuxième colonne contient le pourcentage de variance expliquée\n",
    "cumulative_variance <- cumsum(explained_variance) \n",
    "\n",
    "# Tracer la variance cumulée\n",
    "plot(cumulative_variance, xlab = \"Nombre de composantes principales\", ylab = \"Variance cumulée\", type = \"b\")\n",
    "abline(h = 80, col = \"red\", lty = 2)  # Ligne horizontale à 80% de variance expliquée"
   ]
  },
  {
   "cell_type": "markdown",
   "metadata": {},
   "source": [
    "**Interprétation :** \n",
    "\n",
    "L’analyse de la variance expliquée montre que les 7 premières composantes principales permettent de représenter 80,1 % de la variance totale du jeu de données. Cela signifie que l’essentiel de l’information contenue dans les 11 variables numériques initiales (comme danceability, energy, speechiness, tempo, etc.) peut être résumé avec seulement 7 dimensions, ce qui représente une réduction significative de la complexité du dataset tout en conservant une bonne qualité descriptive.\n",
    "\n",
    "Dans cette optique de réduction de dimension, il serait pertinent de conserver ces 7 composantes principales pour la suite des analyses (clustering, visualisation, classification), car elles capturent la structure principale des données tout en éliminant le \"bruit\".\n",
    "\n",
    "Dans l’analyse factorielle, nous avons choisi d’interpréter les trois premières composantes principales, qui à elles seules expliquent 45 % de la variance totale. Elles offrent un bon compromis entre lisibilité et pertinence pour une visualisation ou une première analyse des relations entre les variables et les genres musicaux (playlist_genre)."
   ]
  },
  {
   "cell_type": "code",
   "execution_count": null,
   "metadata": {
    "vscode": {
     "languageId": "r"
    }
   },
   "outputs": [],
   "source": [
    "# Corrélation des variables\n",
    "corrplot(pca$var$cor, is.corr = FALSE, method = \"ellipse\")\n",
    "\n",
    "# Tracer les variables sur le plan factoriel dim 1-2\n",
    "fviz_pca_var(pca, axes=c(1,2),col.var = \"contrib\", gradient.cols = c(\"#00AFBB\", \"#E7B800\", \"#FC4E07\"), repel = TRUE) +\n",
    "  labs(title = \"Variables sur le plan factoriel\") +\n",
    "  theme_minimal()\n",
    "\n",
    "# Tracer les variables sur le plan factoriel dim 1-3\n",
    "  fviz_pca_var(pca, axes = c(1, 3), col.var = \"contrib\", \n",
    "         gradient.cols = c(\"#00AFBB\", \"#E7B800\", \"#FC4E07\"), \n",
    "         repel = TRUE) +\n",
    "    labs(title = \"Variables sur le plan factoriel (Dim 1-3)\") +\n",
    "    theme_minimal()\n",
    "\n",
    "# Tracer les variables sur le plan factoriel dim 2-3\n",
    "  fviz_pca_var(pca, axes = c(2, 3), col.var = \"contrib\", \n",
    "         gradient.cols = c(\"#00AFBB\", \"#E7B800\", \"#FC4E07\"), \n",
    "         repel = TRUE) +\n",
    "    labs(title = \"Variables sur le plan factoriel (Dim 2-3)\") +\n",
    "    theme_minimal()"
   ]
  },
  {
   "cell_type": "markdown",
   "metadata": {},
   "source": [
    "La table des correlations et les trois graphiques ci-dessus représentent les projections des features sur les trois premières composantes principales nous donne des informations sur la structure des données réduites.\n",
    "\n",
    "**Composante principale 1 :**\n",
    "    \n",
    "Les variables energy (-0.91), loudness (-0.80) et acousticness (+0.72) sont linéairement corrélées avec la première composante principale, en soulignant que energy et loudness sont inversément corrélées avec acousticness. Cela indique que la CP1 oppose les morceaux énergiques, forts en volume et peu acoustiques (ex : rock, électro) aux morceaux calmes, acoustiques et peu énergétiques (ex : folk, classique).\n",
    "\n",
    "**Composante principale 2 :**\n",
    "\n",
    "Sur le graphique de gauche, on remarque une opposition des variables instrumentalness (+0.45), duration_s (+0.38) contre danceability (-0.68), valence (-0.62), track_popularity (-0.37), speechiness (-0.39).\n",
    "\n",
    "Cette composante principale oppose deux profils de morceaux :\n",
    "    D’un côté, les morceaux instrumentaux, longs et peu populaires (forte contribution de instrumentalness et duration_s), souvent associés à des genres comme le classique ou le jazz.\n",
    "    De l’autre, les chansons courtes, dansantes, joyeuses et populaires (forte contribution de danceability, valence et track_popularity), typiques de la pop ou de la musique de club.\n",
    "    Enfin, cette opposition suggère que les morceaux avec des paroles marquées (speechiness) et une structure rythmique engageante (danceability) sont plus susceptibles de générer de la popularité.\n",
    "\n",
    "**Composantes principales 2 et 3 :**\n",
    "\n",
    "Sur le graphique au centre, on peut extraire plusieurs informations :\n",
    "    Les morceaux dansants et joyeux (haute valence) s'opposent dans une moindre mesure aux morceaux de faible tempo. De plus, ces morceaux semblent avoir peu de versions live.\n",
    "    On observe aussi que les morceaux instrumentaux et longs ont généralement une faible popularité, tandis que les morceaux courts et peu instrumentaux sont souvent plus populaires, ce qui est typique de la musique pop, qui est souvent plus accessible et commerciale.\n",
    "\n",
    "**Composante principale 3 :**\n",
    "\n",
    "La troisième composante (CP3) révèle un paradoxe : elle regroupe des morceaux à fort potentiel dansant (danceability) et mood positif (valence), mais qui restent peu populaires (track_popularity). Ces morceaux sont souvent instrumentaux (instrumentalness), longs (duration_s) et à tempo faible (tempo), ce qui les éloigne des standards des charts. Cette composante pourrait représenter des créations artistiques équilibrant danse et complexité, mais peinant à atteindre un large public.\n",
    "\n",
    "**Remarque:** on peut noter que les valeurs ne sont pas exactement les mêmes que sur le notebook Python. L'ACP sous R ne prend pas forcément la même base que sur Python, ce qui explique les valeurs parfois négatives ou positives."
   ]
  },
  {
   "cell_type": "markdown",
   "metadata": {},
   "source": [
    "Pour mieux comprendre à quoi correspond les type morceaux extraits par ces composantes principales, nous allons regarder les morceaux (individus) contribuant le plus à chacune des composantes principales."
   ]
  },
  {
   "cell_type": "code",
   "execution_count": null,
   "metadata": {
    "vscode": {
     "languageId": "r"
    }
   },
   "outputs": [],
   "source": [
    "# Extraction des coordonnées des individus sur la dimension 1\n",
    "dim1_coords <- pca$ind$coord[, 1]\n",
    "\n",
    "# Récupération des indices des 5 valeurs minimales et maximales\n",
    "min_indices <- order(dim1_coords)[1:5]\n",
    "max_indices <- order(dim1_coords, decreasing = TRUE)[1:5]\n",
    "\n",
    "# Sélection complète des individus extrêmes avec toutes leurs caractéristiques\n",
    "extreme_individuals <- song[c(min_indices, max_indices), ]\n",
    "\n",
    "# Ajout d'une colonne pour identifier la catégorie (minimum ou maximum)\n",
    "extreme_individuals$Category <- c(rep(\"Minimum\", 5), rep(\"Maximum\", 5))\n",
    "extreme_individuals$Dim1_Value <- dim1_coords[c(min_indices, max_indices)]\n",
    "\n",
    "# Réorganiser les colonnes pour mettre Category et Dim1_Value au début\n",
    "col_order <- c(\"Category\", \"Dim1_Value\", colnames(extreme_individuals)[1:(ncol(extreme_individuals)-2)])\n",
    "extreme_individuals <- extreme_individuals[, col_order]\n",
    "\n",
    "# Pour une meilleure visualisation en format tableau\n",
    "if (requireNamespace(\"knitr\", quietly = TRUE)) {\n",
    "  knitr::kable(extreme_individuals)\n",
    "}"
   ]
  },
  {
   "cell_type": "markdown",
   "metadata": {
    "vscode": {
     "languageId": "r"
    }
   },
   "source": [
    "\n",
    "\n",
    "Pour mieux cerner les types de morceaux représentés aux extrémités de la première composante principale (PC1), nous avons identifié les individus (chansons) ayant les contributions les plus élevées, positives comme négatives.\n",
    "\n",
    "    Du côté des contributions positives, on retrouve majoritairement des morceaux rock, hard rock ou pop rock très énergiques et puissants tels que American Idiot (Green Day), Beauty Queen (BLVK SWVN) ou ATTENTION ATTENTION (Shinedown). Ces morceaux sont caractérisés par une énergie élevée, une forte intensité sonore (loudness) et une faible acoustique, ce qui confirme bien la structure mise en évidence par la CP1. Notons aussi This Is How We Do It (Montell Jordan), un morceau R&B énergique, qui se distingue des autres par son genre mais partage les mêmes caractéristiques acoustiques.\n",
    "\n",
    "    À l’opposé, les morceaux à contribution très négative sur PC1 sont des titres à forte acoustique, peu énergiques et très faibles en loudness. Il s'agit notamment de sons ambiants, relaxants ou naturels, comme Peaceful Forest ou Tropical Rainforest at Dawn, mais aussi de titres R&B ou indie très doux (Small de chloe moriondo). Ces morceaux incarnent l'autre extrémité de la CP1 : des chansons calmes, acoustiques et à faible énergie, souvent issues de sous-genres comme tropical, indie poptimism ou new jack swing.\n",
    "\n",
    "Cette opposition renforce l’interprétation de la CP1 comme un axe énergie / intensité sonore vs. calme / acoustique, pertinent pour distinguer deux grandes familles de styles musicaux dans le dataset.\n"
   ]
  },
  {
   "cell_type": "code",
   "execution_count": null,
   "metadata": {
    "vscode": {
     "languageId": "r"
    }
   },
   "outputs": [],
   "source": [
    "# Extraction des coordonnées des individus sur la dimension 2\n",
    "dim2_coords <- pca$ind$coord[, 2]\n",
    "\n",
    "# Récupération des indices des 5 valeurs minimales et maximales\n",
    "min_indices_dim2 <- order(dim2_coords)[1:5]\n",
    "max_indices_dim2 <- order(dim2_coords, decreasing = TRUE)[1:5]\n",
    "\n",
    "# Sélection complète des individus extrêmes avec toutes leurs caractéristiques\n",
    "extreme_individuals_dim2 <- song[c(min_indices_dim2, max_indices_dim2), ]\n",
    "\n",
    "# Ajout d'une colonne pour identifier la catégorie (minimum ou maximum)\n",
    "extreme_individuals_dim2$Category <- c(rep(\"Minimum\", 5), rep(\"Maximum\", 5))\n",
    "extreme_individuals_dim2$Dim2_Value <- dim2_coords[c(min_indices_dim2, max_indices_dim2)]\n",
    "\n",
    "# Réorganiser les colonnes pour mettre Category et Dim2_Value au début\n",
    "col_order <- c(\"Category\", \"Dim2_Value\", colnames(extreme_individuals_dim2)[1:(ncol(extreme_individuals_dim2)-2)])\n",
    "extreme_individuals_dim2 <- extreme_individuals_dim2[, col_order]\n",
    "\n",
    "# Pour une meilleure visualisation en format tableau\n",
    "if (requireNamespace(\"knitr\", quietly = TRUE)) {\n",
    "  knitr::kable(extreme_individuals_dim2)\n",
    "}"
   ]
  },
  {
   "cell_type": "markdown",
   "metadata": {
    "vscode": {
     "languageId": "r"
    }
   },
   "source": [
    "\n",
    "\n",
    "Côté contributions positives, on retrouve des titres principalement rap et latino, tels que Suge de DaBaby ou LAX de B0nds. Ces morceaux sont :\n",
    "\n",
    "    courts,\n",
    "    dansants (haute danceability),\n",
    "    avec une valence élevée (émotion positive),\n",
    "    mais également avec un certain niveau de speechiness, notamment pour les titres rap.\n",
    "\n",
    "Ces morceaux partagent donc des caractéristiques propres aux chansons énergétiques, rythmées et populaires, souvent taillées pour le streaming, avec des formats courts, accrocheurs et directs.\n",
    "\n",
    "À l’opposé, les morceaux ayant une forte contribution négative à PC2 sont très différents : on retrouve des paysages sonores naturels, ambiants ou instrumentaux comme Rain Forest and Tropical Beach Sound, Caribbean Thunderstorm, ou encore Battlement. Ces titres sont :\n",
    "\n",
    "    longs,\n",
    "    instrumentaux (forte instrumentalness),\n",
    "    avec une faible valence et peu de parole,\n",
    "    et souvent issus de sous-genres comme tropical, album rock, ou ambient.\n",
    "\n",
    "Cela confirme l’interprétation initiale de la PC2 comme un axe opposant la musique instrumentale, longue et contemplative à une musique populaire, dansante et rythmée.\n"
   ]
  },
  {
   "cell_type": "code",
   "execution_count": null,
   "metadata": {
    "vscode": {
     "languageId": "r"
    }
   },
   "outputs": [],
   "source": [
    "# Extraction des coordonnées des individus sur la dimension 3\n",
    "dim3_coords <- pca$ind$coord[, 3]\n",
    "\n",
    "# Récupération des indices des 5 valeurs minimales et maximales\n",
    "min_indices_dim3 <- order(dim3_coords)[1:5]\n",
    "max_indices_dim3 <- order(dim3_coords, decreasing = TRUE)[1:5]\n",
    "\n",
    "# Sélection complète des individus extrêmes avec toutes leurs caractéristiques\n",
    "extreme_individuals_dim3 <- song[c(min_indices_dim3, max_indices_dim3), ]\n",
    "\n",
    "# Ajout d'une colonne pour identifier la catégorie (minimum ou maximum)\n",
    "extreme_individuals_dim3$Category <- c(rep(\"Minimum\", 5), rep(\"Maximum\", 5))\n",
    "extreme_individuals_dim3$Dim3_Value <- dim3_coords[c(min_indices_dim3, max_indices_dim3)]\n",
    "\n",
    "# Réorganiser les colonnes pour mettre Category et Dim3_Value au début\n",
    "col_order <- c(\"Category\", \"Dim3_Value\", colnames(extreme_individuals_dim3)[1:(ncol(extreme_individuals_dim3)-2)])\n",
    "extreme_individuals_dim3 <- extreme_individuals_dim3[, col_order]\n",
    "\n",
    "# Pour une meilleure visualisation en format tableau\n",
    "if (requireNamespace(\"knitr\", quietly = TRUE)) {\n",
    "  knitr::kable(extreme_individuals_dim3)\n",
    "}"
   ]
  },
  {
   "cell_type": "markdown",
   "metadata": {
    "vscode": {
     "languageId": "r"
    }
   },
   "source": [
    "\n",
    "\n",
    "La troisième composante principale met en lumière une tension plus subtile entre deux types de morceaux aux caractéristiques inattendues.\n",
    "\n",
    "Du côté des contributions négatives, on retrouve des titres de pop et R&B calmes et acoustiques comme raindrops (an angel cried) (Ariana Grande) ou You Are The Reason (Calum Scott). Ces chansons ont :\n",
    "\n",
    "    une acousticness élevée (acapela, guitare acoustique, piano),\n",
    "    un tempo légèrement plus rapide que la médiane des morceaux,\n",
    "    une faible énergie, mais un potentiel émotionnel fort (valence variable).\n",
    "\n",
    "Comme suggéré par la PC3, ces morceaux rencontrent un certain succès, illustrant un profil de chansons émotionnelles, accessibles et bien produites, souvent interprétées par des artistes grand public au style sobre et expressif.\n",
    "\n",
    "Les contributions positives, quant à elles, sont largement dominées par des morceaux EDM ou latino instrumentaux, comme I Feel Love ou Chase. Ces morceaux sont :\n",
    "\n",
    "    longs,\n",
    "    très instrumentaux,\n",
    "    énergiques mais souvent moins \"accessibles\" émotionnellement (valence très élevée mais peu de paroles, structure répétitive).\n",
    "\n",
    "Ils présentent également une popularité extrêmement faible, allant de 0 à 8. Ces productions s’adressent probablement à un public averti ou sont conçues pour des usages spécifiques (DJ sets, ambiances electro), ce qui les éloigne des standards de la musique grand public.\n",
    "\n",
    "Ces observations confirment que la PC3 oppose des créations acoustiques à forte charge émotionnelle à des morceaux instrumentaux, électroniques, longs, aux dynamiques parfois complexes ou répétitives.\n",
    "\n",
    "On remarque le signe des contributions est inversé par rapport à l'analyse en composantes principales (ACP) réalisée sous Python."
   ]
  },
  {
   "cell_type": "markdown",
   "metadata": {
    "vscode": {
     "languageId": "r"
    }
   },
   "source": [
    "## 2. Réduction de dimension par Analyse en Correspondances Multiples (MCA)"
   ]
  },
  {
   "cell_type": "markdown",
   "metadata": {},
   "source": [
    "## Multiple Factorial Analysis (MCA)\n",
    "\n",
    "**1. Variables catégorielles à utiliser dans la MCA**\n",
    "Voici les variables qualitatives que l'on pourrait envisager d'utiliser pour la MCA sur le dataset Spotify :  \n",
    "- `track_artist`  \n",
    "- `track_album_name` (attention à trop de modalités rares, peut-être garder que les plus fréquentes ou ne pas inclure à cause du grand nombre d’artistes)  \n",
    "- `playlist_name`  \n",
    "- `playlist_genre`  \n",
    "- `playlist_subgenre`  \n",
    "- `key`  \n",
    "- `mode`  \n",
    "\n",
    "---\n",
    "\n",
    "**2. Questions que la MCA peut aider à explorer**\n",
    "\n",
    "**a) Quels sont les groupes/cluster de modalités similaires ?**\n",
    "- Est-ce que certains genres et sous-genres de playlists s’associent fréquemment ?  \n",
    "- Certains \"modes\" (majeur/minor) sont-ils plus fréquents dans certains genres ?  \n",
    "- Y a-t-il des clés (`key`) musicales qui sont typiques de certains genres ou playlists ?  \n",
    "\n",
    "La MCA permettra de représenter graphiquement (biplot) ces modalités et d’identifier des associations fortes.\n",
    "\n",
    "**b) Est-ce que certains artistes ou playlists ont un profil qualitatif particulier ?**\n",
    "- Par exemple, certains artistes seraient-ils associés à un genre et sous-genre spécifiques, ou à un mode particulier ?  \n",
    "- Y a-t-il des clusters d’artistes / playlists qui partagent des caractéristiques particulières (clé, mode, genre) ?\n",
    "\n",
    "**3. Comment interpréter la MCA ici**\n",
    "\n",
    "- **Axes factoriels** : Chaque axe correspond à une dimension qui résume des associations fortes entre modalités. Par exemple, un axe peut opposer les genres \"Rock\" à \"Pop\", ou des clés majeures à mineures.\n",
    "- **Modalités proches dans l’espace** : Modalités proches signifient qu’elles co-apparaissent souvent dans les observations (ex. certains genres + mode majeur).\n",
    "- **Observation** : Si tu represents les observations (chansons) dans l’espace MCA, celles proches partagent des profils catégoriels similaires.\n",
    "\n",
    "---\n",
    "\n",
    "**4. Utilisations concrètes/academic use cases**\n",
    "\n",
    "- **Profil des genres musicaux** : Comprendre quels modes/clés/sous-genres caractérisent les genres populaires sur Spotify.  \n",
    "- **Segmentation qualitative des playlists** : Y a-t-il des types de playlists/musiques qui partagent des caractéristiques qualitatives communes ?  \n",
    "- **Analyse de diversité** : Mesurer dans quelle mesure certains artistes/genres sont hétérogènes ou homogènes quant à leurs caractéristiques catégorielles.  \n",
    "- **Préparation à une classification** : Par exemple, combiner le résultat de la PCA (variables numériques) avec la MCA (variables qualitatives) dans une analyse factorielle mixte ou pour enrichir un modèle prédictif.\n",
    "\n",
    "---\n",
    "\n",
    "**5. Exemple de questions précises à poser**\n",
    "\n",
    "- Les genres musicaux sont-ils liés à certaines tonalités ou modes ?  \n",
    "- Les sous-genres présents dans la même playlist sont-ils proches ou éloignés dans l’espace MCA ?  \n",
    "- Y a-t-il des clés rares ou des modes minoritaires associés à certains genres uniquement ?  \n",
    "- Peut-on détecter des groupes de playlists ou artistes avec des profils qualitatifs similaires ?  \n",
    "\n",
    "---\n",
    "\n",
    "**En conclusion**\n",
    "La MCA t’aide surtout à **explorer et visualiser les relations entre variables qualitatives** et leurs modalités sur ton dataset Spotify, ce qui complète bien la PCA sur les variables numériques. C’est une étape utile pour comprendre la structure qualitative de tes données avant d’envisager une modélisation supervisée ou une analyse plus approfondie.\n",
    "\n",
    "---\n",
    "\n",
    "Si tu veux, je peux aussi te fournir un exemple de code Python pour réaliser une MCA avec `prince` ou en R avec `FactoMineR` sur ton dataset."
   ]
  },
  {
   "cell_type": "code",
   "execution_count": null,
   "metadata": {
    "vscode": {
     "languageId": "r"
    }
   },
   "outputs": [],
   "source": [
    "#MCA avec FactoMineR sur les variables playlist_genre et mode\n",
    "#song_mca conserve uniquement les variables playlist_genre et mode\n",
    "song_mca <- song[, c('playlist_genre', 'mode')]\n",
    "# Perform MCA\n",
    "mca <- MCA(song_mca, graph = FALSE, ncp = 2)\n",
    "\n",
    "#Tracer les variables sur le plan factoriel\n",
    "fviz_mca_var(mca, col.var = \"contrib\", gradient.cols = c(\"#00AFBB\", \"#E7B800\", \"#FC4E07\"), \n",
    "             repel = TRUE) +\n",
    "  labs(title = \"Variables sur le plan factoriel\") +\n",
    "  theme_minimal()\n"
   ]
  },
  {
   "cell_type": "code",
   "execution_count": null,
   "metadata": {
    "vscode": {
     "languageId": "r"
    }
   },
   "outputs": [],
   "source": []
  }
 ],
 "metadata": {
  "kernelspec": {
   "display_name": "R",
   "language": "R",
   "name": "ir"
  },
  "language_info": {
   "codemirror_mode": "r",
   "file_extension": ".r",
   "mimetype": "text/x-r-source",
   "name": "R",
   "pygments_lexer": "r",
   "version": "4.5.0"
  }
 },
 "nbformat": 4,
 "nbformat_minor": 2
}
