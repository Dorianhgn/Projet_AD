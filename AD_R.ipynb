{
 "cells": [
  {
   "cell_type": "markdown",
   "metadata": {},
   "source": [
    "## Data preprocessing"
   ]
  },
  {
   "cell_type": "code",
   "execution_count": null,
   "metadata": {
    "vscode": {
     "languageId": "r"
    }
   },
   "outputs": [],
   "source": [
    "# Chargement des librairies nécessaires\n",
    "library(ggplot2)\n",
    "library(tidyverse)\n",
    "library(gridExtra)\n",
    "library(GGally)\n",
    "library(plotly)\n",
    "library(corrplot)\n",
    "library(reshape2)\n",
    "library(FactoMineR) \n",
    "library(factoextra)\n",
    "library(glmnet) \n",
    "library(ggfortify)\n",
    "library(pROC)\n",
    "library(ROCR)\n",
    "library(ggpubr)"
   ]
  },
  {
   "cell_type": "code",
   "execution_count": null,
   "metadata": {
    "vscode": {
     "languageId": "r"
    }
   },
   "outputs": [],
   "source": [
    "# Lecture des données\n",
    "path <- \"data/\"\n",
    "song <- read.csv(paste0(path, \"spotify_songs.csv\"), header = TRUE, sep = \",\")\n",
    "\n",
    "# Premières lignes du jeu de données\n",
    "head(song)\n",
    "\n",
    "# Vérification du contenu\n",
    "summary(song)"
   ]
  },
  {
   "cell_type": "code",
   "execution_count": null,
   "metadata": {
    "vscode": {
     "languageId": "r"
    }
   },
   "outputs": [],
   "source": [
    "# Check the data types\n",
    "str(song)"
   ]
  },
  {
   "cell_type": "code",
   "execution_count": null,
   "metadata": {
    "vscode": {
     "languageId": "r"
    }
   },
   "outputs": [],
   "source": [
    "# Drop the track_id, track_album_id, playlist_id columns\n",
    "song <- song[, -c(1, 5, 9)]\n",
    "\n",
    "# As factor the categorical variables track_artist, playlist_genre, playlist_subgenre, key, mode, playlist_name, track_album_name\n",
    "song$playlist_name <- as.factor(song$playlist_name)\n",
    "song$track_album_name <- as.factor(song$track_album_name)\n",
    "song$track_artist <- as.factor(song$track_artist)\n",
    "song$playlist_genre <- as.factor(song$playlist_genre)\n",
    "song$playlist_subgenre <- as.factor(song$playlist_subgenre)\n",
    "song$key <- factor(song$key, levels = c(-1, 0:11), labels = c(\"No key detected\", \"C\", \"C♯/D♭\", \"D\", \"D♯/E♭\", \"E\", \"F\", \"F♯/G♭\", \"G\", \"G♯/A♭\", \"A\", \"A♯/B♭\", \"B\"))\n",
    "song$mode <- factor(song$mode, levels = c(0, 1), labels = c(\"minor\", \"major\"))\n",
    "\n",
    "# track_album_release_date to date (if the full date is not available, we will use the first day of the year)\n",
    "song$track_album_release_date <- as.Date(ifelse(nchar(song$track_album_release_date) != 10, \n",
    "                                                paste0(substr(song$track_album_release_date, 1, 4), \"-01-01\"), \n",
    "                                                song$track_album_release_date), \n",
    "                                         format = \"%Y-%m-%d\")\n",
    "\n",
    "# Convert the duration_ms to seconds and rename the column to duration_s\n",
    "song$duration_s <- song$duration_ms / 1000\n",
    "song$duration_ms <- NULL\n",
    "\n",
    "# Check the modified dataset\n",
    "summary(song)\n",
    "head(song)"
   ]
  },
  {
   "cell_type": "code",
   "execution_count": null,
   "metadata": {
    "vscode": {
     "languageId": "r"
    }
   },
   "outputs": [],
   "source": [
    "# Check for missing values\n",
    "colSums(is.na(song))\n",
    "\n",
    "# Drop the missing values\n",
    "song <- na.omit(song)\n",
    "\n",
    "# Check the modified dataset\n",
    "colSums(is.na(song))\n",
    "\n",
    "str(song)"
   ]
  },
  {
   "cell_type": "markdown",
   "metadata": {},
   "source": [
    "## Dimensionnality reduction"
   ]
  },
  {
   "cell_type": "markdown",
   "metadata": {},
   "source": [
    "### Principal Component Analysis"
   ]
  },
  {
   "cell_type": "markdown",
   "metadata": {},
   "source": []
  },
  {
   "cell_type": "code",
   "execution_count": null,
   "metadata": {
    "vscode": {
     "languageId": "r"
    }
   },
   "outputs": [],
   "source": [
    "# PCA analysis using FactoMineR\n",
    "song_pca <- song[, c(3, 7, 9:10, 12, 14:20)]\n",
    "\n",
    "# Perform PCA\n",
    "pca <- PCA(song_pca,scale.unit = TRUE, graph = FALSE,ncp = 4,quali.sup = 2)\n",
    "\n",
    "# Afficher le pourcentage de variance expliquée par chaque composante principale\n",
    "fviz_eig(pca, addlabels = TRUE, ylim = c(0, 40))\n",
    "\n",
    "# Calculer la variance cumulée\n",
    "explained_variance <- pca$eig[, 2]  # La deuxième colonne contient le pourcentage de variance expliquée\n",
    "cumulative_variance <- cumsum(explained_variance)\n",
    "\n",
    "# Tracer la variance cumulée\n",
    "plot(cumulative_variance, xlab = \"Nombre de composantes principales\", ylab = \"Variance cumulée\", type = \"b\")\n",
    "abline(h = 80, col = \"red\", lty = 2)  # Ligne horizontale à 80% de variance expliquée\n",
    "\n",
    "# Corrélation des variables\n",
    "corrplot(pca$var$cor, is.corr = FALSE, method = \"ellipse\")"
   ]
  },
  {
   "cell_type": "markdown",
   "metadata": {},
   "source": [
    "## Interprétation de l'Analyse en Composantes Principales (PCA)\n",
    "\n",
    "### **Analyse des principales corrélations :**\n",
    "- **PC1 (Composante Principale 1) :**  \n",
    "  - **Corrélations négatives fortes :** `energy (-0.91)`, `loudness (-0.80)`.  \n",
    "    → Cette composante sépare les morceaux énergiques et bruyants des morceaux plus doux.  \n",
    "  - **Corrélation positive forte :** `acousticness (+0.72)`.  \n",
    "    → Elle oppose également les morceaux acoustiques aux morceaux énergétiques.  \n",
    "\n",
    "- **PC2 (Composante Principale 2) :**  \n",
    "  - **Corrélations négatives :** `danceability (-0.68)`, `valence (-0.62)`.  \n",
    "    → Cette composante distingue les morceaux dansants et joyeux des autres.  \n",
    "  - **Corrélations positives :** `instrumentalness (+0.45)`, `duration_s (+0.38)`.  \n",
    "    → Elle représente les morceaux plus longs et instrumentaux.  \n",
    "\n",
    "- **PC3 (Composante Principale 3) :**  \n",
    "  - **Corrélations positives :** `danceability (+0.46)`, `instrumentalness (+0.39)`, `duration_s (+0.45)`.  \n",
    "    → Cette dimension semble être liée à la dansabilité et à la durée des morceaux.  \n",
    "  - **Corrélation négative :** `tempo (-0.35)`.  \n",
    "    → Elle oppose les morceaux rapides et lents.  \n",
    "\n",
    "- **PC4 (Composante Principale 4) :**  \n",
    "  - **Corrélation positive forte :** `speechiness (+0.71)`.  \n",
    "    → Cette composante est dominée par la présence de paroles (rap).  \n",
    "  - **Corrélation positive :** `liveness (+0.58)`.  \n",
    "    → Elle met en avant les morceaux enregistrés en live.  \n",
    "\n",
    "### **Interprétation globale :**\n",
    "- **PC1 sépare les morceaux énergiques et bruyants des morceaux acoustiques.**  \n",
    "- **PC2 distingue les morceaux dansants et joyeux des morceaux instrumentaux et longs.**  \n",
    "- **PC3 différencie les morceaux en fonction de leur dansabilité et de leur tempo.**  \n",
    "- **PC4 met en avant les morceaux avec beaucoup de paroles et ceux enregistrés en live.**  "
   ]
  },
  {
   "cell_type": "code",
   "execution_count": null,
   "metadata": {
    "vscode": {
     "languageId": "r"
    }
   },
   "outputs": [],
   "source": [
    "# Tracer les variables de l'ACP\n",
    "fviz_pca_var(pca)\n",
    "\n",
    "# Tracer les individus de l'ACP avec la contribution colorée\n",
    "fviz_pca_ind(pca, col.ind = \"contrib\", label = \"none\", gradient.cols = c(\"white\", \"#2E9FDF\", \"#FC4E07\"))\n",
    "\n",
    "# Tracer les individus de l'ACP avec la contribution colorée\n",
    "fviz_pca_ind(pca, col.ind = song$playlist_genre, label = \"none\", addEllipses = TRUE, ellipse.level = 0.95, alpha.ind = 0.1, axes = c(1, 3))"
   ]
  }
 ],
 "metadata": {
  "kernelspec": {
   "display_name": "R",
   "language": "R",
   "name": "ir"
  },
  "language_info": {
   "codemirror_mode": "r",
   "file_extension": ".r",
   "mimetype": "text/x-r-source",
   "name": "R",
   "pygments_lexer": "r",
   "version": "4.4.0"
  }
 },
 "nbformat": 4,
 "nbformat_minor": 2
}
