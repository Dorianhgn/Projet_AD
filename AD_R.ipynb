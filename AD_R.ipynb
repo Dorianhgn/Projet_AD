{
 "cells": [
  {
   "cell_type": "markdown",
   "metadata": {},
   "source": [
    "## Data preprocessing"
   ]
  },
  {
   "cell_type": "code",
   "execution_count": null,
   "metadata": {
    "vscode": {
     "languageId": "r"
    }
   },
   "outputs": [],
   "source": [
    "# Chargement des librairies nécessaires\n",
    "library(ggplot2)\n",
    "library(tidyverse)\n",
    "library(gridExtra)\n",
    "library(GGally)\n",
    "library(plotly)\n",
    "library(corrplot)\n",
    "library(reshape2)\n",
    "library(FactoMineR) \n",
    "library(factoextra)\n",
    "library(glmnet) \n",
    "library(ggfortify)\n",
    "library(pROC)\n",
    "library(ROCR)"
   ]
  },
  {
   "cell_type": "code",
   "execution_count": null,
   "metadata": {
    "vscode": {
     "languageId": "r"
    }
   },
   "outputs": [],
   "source": [
    "# Lecture des données\n",
    "path <- \"data/\"\n",
    "song <- read.csv(paste0(path, \"spotify_songs.csv\"), header = TRUE, sep = \",\")\n",
    "\n",
    "# Premières lignes du jeu de données\n",
    "head(song)\n",
    "\n",
    "# Vérification du contenu\n",
    "summary(song)"
   ]
  },
  {
   "cell_type": "code",
   "execution_count": null,
   "metadata": {
    "vscode": {
     "languageId": "r"
    }
   },
   "outputs": [],
   "source": [
    "# Check the data types\n",
    "str(song)"
   ]
  },
  {
   "cell_type": "code",
   "execution_count": null,
   "metadata": {
    "vscode": {
     "languageId": "r"
    }
   },
   "outputs": [],
   "source": [
    "# Drop the track_id, track_album_id, playlist_id columns\n",
    "song <- song[, -c(1, 5, 9)]\n",
    "\n",
    "# As factor the categorical variables track_artist, playlist_genre, playlist_subgenre, key, mode, playlist_name, track_album_name\n",
    "song$playlist_name <- as.factor(song$playlist_name)\n",
    "song$track_album_name <- as.factor(song$track_album_name)\n",
    "song$track_artist <- as.factor(song$track_artist)\n",
    "song$playlist_genre <- as.factor(song$playlist_genre)\n",
    "song$playlist_subgenre <- as.factor(song$playlist_subgenre)\n",
    "song$key <- factor(song$key, levels = c(-1, 0:11), labels = c(\"No key detected\", \"C\", \"C♯/D♭\", \"D\", \"D♯/E♭\", \"E\", \"F\", \"F♯/G♭\", \"G\", \"G♯/A♭\", \"A\", \"A♯/B♭\", \"B\"))\n",
    "song$mode <- factor(song$mode, levels = c(0, 1), labels = c(\"minor\", \"major\"))\n",
    "\n",
    "# track_album_release_date to date (if the full date is not available, we will use the first day of the year)\n",
    "song$track_album_release_date <- as.Date(ifelse(nchar(song$track_album_release_date) != 10, \n",
    "                                                paste0(substr(song$track_album_release_date, 1, 4), \"-01-01\"), \n",
    "                                                song$track_album_release_date), \n",
    "                                         format = \"%Y-%m-%d\")\n",
    "\n",
    "# Convert the duration_ms to seconds and rename the column to duration_s\n",
    "song$duration_s <- song$duration_ms / 1000\n",
    "song$duration_ms <- NULL\n",
    "\n",
    "# Check the modified dataset\n",
    "summary(song)\n",
    "head(song)"
   ]
  },
  {
   "cell_type": "code",
   "execution_count": null,
   "metadata": {
    "vscode": {
     "languageId": "r"
    }
   },
   "outputs": [],
   "source": [
    "# Check for missing values\n",
    "colSums(is.na(song))\n",
    "\n",
    "# Drop the missing values\n",
    "song <- na.omit(song)\n",
    "\n",
    "# Check the modified dataset\n",
    "colSums(is.na(song))\n",
    "\n",
    "str(song)"
   ]
  }
 ],
 "metadata": {
  "kernelspec": {
   "display_name": "R",
   "language": "R",
   "name": "ir"
  },
  "language_info": {
   "codemirror_mode": "r",
   "file_extension": ".r",
   "mimetype": "text/x-r-source",
   "name": "R",
   "pygments_lexer": "r",
   "version": "4.4.2"
  }
 },
 "nbformat": 4,
 "nbformat_minor": 2
}
