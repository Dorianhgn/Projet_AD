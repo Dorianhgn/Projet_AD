{
 "cells": [
  {
   "cell_type": "markdown",
   "metadata": {},
   "source": [
    "## Data preprocessing"
   ]
  },
  {
   "cell_type": "code",
   "execution_count": null,
   "metadata": {
    "vscode": {
     "languageId": "r"
    }
   },
   "outputs": [],
   "source": [
    "# Chargement des librairies nécessaires\n",
    "library(ggplot2)\n",
    "library(tidyverse)\n",
    "library(gridExtra)\n",
    "library(GGally)\n",
    "library(plotly)\n",
    "library(corrplot)\n",
    "library(reshape2)\n",
    "library(FactoMineR) \n",
    "library(factoextra)\n",
    "library(glmnet) \n",
    "library(ggfortify)\n",
    "library(pROC)\n",
    "library(ROCR)"
   ]
  },
  {
   "cell_type": "code",
   "execution_count": null,
   "metadata": {
    "vscode": {
     "languageId": "r"
    }
   },
   "outputs": [],
   "source": [
    "# Lecture des données\n",
    "path <- \"data/\"\n",
    "song <- read.csv(paste0(path, \"spotify_songs.csv\"), header = TRUE, sep = \",\")\n",
    "\n",
    "# Premières lignes du jeu de données\n",
    "head(song)\n",
    "\n",
    "# Vérification du contenu\n",
    "summary(song)"
   ]
  },
  {
   "cell_type": "code",
   "execution_count": null,
   "metadata": {
    "vscode": {
     "languageId": "r"
    }
   },
   "outputs": [],
   "source": [
    "# Check the data types\n",
    "str(song)"
   ]
  },
  {
   "cell_type": "code",
   "execution_count": null,
   "metadata": {
    "vscode": {
     "languageId": "r"
    }
   },
   "outputs": [],
   "source": [
    "# Drop the track_id, track_album_id, playlist_id columns\n",
    "song <- song[, -c(1, 5, 9)]\n",
    "\n",
    "# As factor the categorical variables track_artist, playlist_genre, playlist_subgenre, key, mode, playlist_name, track_album_name\n",
    "song$playlist_name <- as.factor(song$playlist_name)\n",
    "song$track_album_name <- as.factor(song$track_album_name)\n",
    "song$track_artist <- as.factor(song$track_artist)\n",
    "song$playlist_genre <- as.factor(song$playlist_genre)\n",
    "song$playlist_subgenre <- as.factor(song$playlist_subgenre)\n",
    "song$key <- factor(song$key, levels = c(-1, 0:11), labels = c(\"No key detected\", \"C\", \"C♯/D♭\", \"D\", \"D♯/E♭\", \"E\", \"F\", \"F♯/G♭\", \"G\", \"G♯/A♭\", \"A\", \"A♯/B♭\", \"B\"))\n",
    "song$mode <- factor(song$mode, levels = c(0, 1), labels = c(\"minor\", \"major\"))\n",
    "\n",
    "# track_album_release_date to date (if the full date is not available, we will use the first day of the year)\n",
    "song$track_album_release_date <- as.Date(ifelse(nchar(song$track_album_release_date) != 10, \n",
    "                                                paste0(substr(song$track_album_release_date, 1, 4), \"-01-01\"), \n",
    "                                                song$track_album_release_date), \n",
    "                                         format = \"%Y-%m-%d\")\n",
    "\n",
    "# Convert the duration_ms to seconds and rename the column to duration_s\n",
    "song$duration_s <- song$duration_ms / 1000\n",
    "song$duration_ms <- NULL\n",
    "\n",
    "# Check the modified dataset\n",
    "summary(song)\n",
    "head(song)"
   ]
  },
  {
   "cell_type": "code",
   "execution_count": null,
   "metadata": {
    "vscode": {
     "languageId": "r"
    }
   },
   "outputs": [],
   "source": [
    "# Check for missing values\n",
    "colSums(is.na(song))\n",
    "\n",
    "# Drop the missing values\n",
    "song <- na.omit(song)\n",
    "\n",
    "# Check the modified dataset\n",
    "colSums(is.na(song))\n",
    "\n",
    "str(song)\n",
    "\n",
    "# Show the number of data\n",
    "nrow(song)"
   ]
  },
  {
   "cell_type": "code",
   "execution_count": null,
   "metadata": {
    "vscode": {
     "languageId": "r"
    }
   },
   "outputs": [],
   "source": [
    "# Check for duplicated data\n",
    "cat(sum(duplicated(song)),'\\n')\n",
    "\n",
    "# Check for duplicated song names with same artist\n",
    "cat(sum(duplicated(song[, c(\"track_name\", \"track_artist\")])), '\\n')"
   ]
  },
  {
   "cell_type": "code",
   "execution_count": null,
   "metadata": {
    "vscode": {
     "languageId": "r"
    }
   },
   "outputs": [],
   "source": [
    "# New data set by removing columns playlist_name, playlist_genre, playlist_subgenre\n",
    "onlysongs <- song[, -c(6, 7, 8)]\n",
    "\n",
    "# Check for duplicated data\n",
    "cat(sum(duplicated(onlysongs)), '\\n')\n",
    "\n",
    "# Drop duplicates\n",
    "onlysongs <- unique(onlysongs)\n",
    "\n",
    "# Print number of songs with same name and same artist\n",
    "cat(sum(duplicated(onlysongs[, c(\"track_name\", \"track_artist\")])), '\\n')\n",
    "\n",
    "# print rows with name \"Something real\"\n",
    "onlysongs[onlysongs$track_name == \"Something Real\", ]\n",
    "\n",
    "# Remove duplicates with the same name and artist, keeping only one with the highest popularity\n",
    "onlysongs <- onlysongs %>%\n",
    "    group_by(track_name, track_artist) %>%\n",
    "    filter(track_popularity == max(track_popularity)) %>%\n",
    "    slice(1) %>%  # If there are ties in popularity, keep just one\n",
    "    ungroup()\n",
    "\n",
    "# print rows with name \"Something real\"\n",
    "onlysongs[onlysongs$track_name == \"Something Real\", ]\n",
    "\n",
    "# Number of value in onlysongs\n",
    "cat(nrow(onlysongs), '\\n')"
   ]
  },
  {
   "cell_type": "markdown",
   "metadata": {},
   "source": [
    "Descriptive Analysis"
   ]
  },
  {
   "cell_type": "code",
   "execution_count": null,
   "metadata": {
    "vscode": {
     "languageId": "r"
    }
   },
   "outputs": [],
   "source": [
    "summary(onlysongs)"
   ]
  },
  {
   "cell_type": "code",
   "execution_count": null,
   "metadata": {
    "vscode": {
     "languageId": "r"
    }
   },
   "outputs": [],
   "source": [
    "#Affichage d'histogrammes représentant la distribution de la popularité des chansons, danceability, energy, loudness, speechiness, acousticness, instrumentalness, liveness, valence, tempo, duration_s, avec la possibilité de modifier la taille des titres et du texte des axes\n",
    "options(repr.plot.width=15, repr.plot.height=15)\n",
    "par(mfrow=c(4, 3))\n",
    "hist(onlysongs$track_popularity, main=\"Popularité des chansons\", xlab=\"Popularité\", ylab=\"Nombre de chansons\", col=\"lightblue\", border=\"black\")\n",
    "hist(onlysongs$danceability, main=\"Danceability\", xlab=\"Danceability\", ylab=\"Nombre de chansons\", col=\"lightblue\", border=\"black\")\n",
    "hist(onlysongs$energy, main=\"Energy\", xlab=\"Energy\", ylab=\"Nombre de chansons\", col=\"lightblue\", border=\"black\")\n",
    "hist(onlysongs$loudness, main=\"Loudness\", xlab=\"Loudness\", ylab=\"Nombre de chansons\", col=\"lightblue\", border=\"black\")\n",
    "hist(onlysongs$speechiness, main=\"Speechiness\", xlab=\"Speechiness\", ylab=\"Nombre de chansons\", col=\"lightblue\", border=\"black\")\n",
    "hist(onlysongs$acousticness, main=\"Acousticness\", xlab=\"Acousticness\", ylab=\"Nombre de chansons\", col=\"lightblue\", border=\"black\")\n",
    "hist(onlysongs$instrumentalness, main=\"Instrumentalness\", xlab=\"Instrumentalness\", ylab=\"Nombre de chansons\", col=\"lightblue\", border=\"black\")\n",
    "hist(onlysongs$liveness, main=\"Liveness\", xlab=\"Liveness\", ylab=\"Nombre de chansons\", col=\"lightblue\", border=\"black\")\n",
    "hist(onlysongs$valence, main=\"Valence\", xlab=\"Valence\", ylab=\"Nombre de chansons\", col=\"lightblue\", border=\"black\")\n",
    "hist(onlysongs$tempo, main=\"Tempo\", xlab=\"Tempo\", ylab=\"Nombre de chansons\", col=\"lightblue\", border=\"black\")\n",
    "hist(onlysongs$duration_s, main=\"Durée des chansons\", xlab=\"Durée (s)\", ylab=\"Nombre de chansons\", col=\"lightblue\", border=\"black\")"
   ]
  },
  {
   "cell_type": "code",
   "execution_count": null,
   "metadata": {
    "vscode": {
     "languageId": "r"
    }
   },
   "outputs": [],
   "source": [
    "options(repr.plot.width=15, repr.plot.height=10)\n",
    "par(mfrow=c(2, 3))\n",
    "\n",
    "# Histogramme pour la variable 'mode'\n",
    "mode_counts <- table(onlysongs$mode)\n",
    "barplot(\n",
    "  mode_counts,\n",
    "  main = \"Distribution de la variable 'mode'\",\n",
    "  xlab = \"Mode\",\n",
    "  ylab = \"Fréquence\",\n",
    "  col = \"lightblue\",\n",
    "  border = \"black\",\n",
    "  las = 1 # Labels horizontaux\n",
    ")\n",
    "\n",
    "# Histogramme pour la variable 'key'\n",
    "key_counts <- table(onlysongs$key)\n",
    "barplot(\n",
    "  key_counts,\n",
    "  main = \"Distribution de la variable 'key'\",\n",
    "  xlab = \"Key\",\n",
    "  ylab = \"Fréquence\",\n",
    "  col = \"lightblue\",\n",
    "  border = \"black\",\n",
    "  las = 1 # Labels horizontaux\n",
    ")\n",
    "# Conversion de la variable 'track_album_release' en format Date\n",
    "onlysongs$track_album_release <- as.Date(onlysongs$track_album_release)\n",
    "\n",
    "# Extraction de l'année de sortie\n",
    "onlysongs$release_year <- format(onlysongs$track_album_release, \"%Y\")\n",
    "\n",
    "# Comptage des occurrences par année\n",
    "release_year_counts <- table(onlysongs$release_year)\n",
    "\n",
    "# Création de l'histogramme\n",
    "barplot(\n",
    "  release_year_counts,\n",
    "  main = \"Distribution des années de sortie des albums\",\n",
    "  xlab = \"Année de sortie\",\n",
    "  ylab = \"Nombre de morceaux\",\n",
    "  col = \"lightblue\",\n",
    "  border = \"black\",\n",
    "  las = 2 # Rotation des labels pour les rendre lisibles\n",
    ")\n",
    "\n",
    "# Histogramme pour la variable 'playlist_genre'\n",
    "genre_counts <- table(song$playlist_genre)\n",
    "barplot(\n",
    "  genre_counts,\n",
    "  main = \"Distribution de la variable 'playlist_genre'\",\n",
    "  xlab = \"Genre de la playlist\",\n",
    "  ylab = \"Fréquence\",\n",
    "  col = \"lightblue\",\n",
    "  border = \"black\",\n",
    "  las = 2 # Rotation des labels pour les rendre lisibles\n",
    ")\n",
    "\n",
    "# Histogramme pour la variable 'playlist_subgenre'\n",
    "subgenre_counts <- table(song$playlist_subgenre)\n",
    "barplot(\n",
    "  subgenre_counts,\n",
    "  main = \"Distribution de la variable 'playlist_subgenre'\",\n",
    "  xlab = \"Sous-genre de la playlist\",\n",
    "  ylab = \"Fréquence\",\n",
    "  col = \"lightblue\",\n",
    "  border = \"black\",\n",
    "  las = 2 # Rotation des labels pour les rendre lisibles\n",
    ")"
   ]
  },
  {
   "cell_type": "code",
   "execution_count": null,
   "metadata": {
    "vscode": {
     "languageId": "r"
    }
   },
   "outputs": [],
   "source": [
    "# Création des catégories pour la variable 'speechiness'\n",
    "onlysongs$speechiness_category <- cut(\n",
    "  onlysongs$speechiness,\n",
    "  breaks = c(0, 0.33, 0.66, 1),\n",
    "  labels = c(\"Music\", \"Speech and music\", \"Speech\"),\n",
    "  include.lowest = TRUE\n",
    ")\n",
    "\n",
    "# Comptage des occurrences dans chaque catégorie\n",
    "speechiness_counts <- table(onlysongs$speechiness_category)\n",
    "\n",
    "# Création de l'histogramme\n",
    "barplot(\n",
    "  speechiness_counts,\n",
    "  main = \"Distribution des catégories de 'speechiness'\",\n",
    "  xlab = \"Catégories de speechiness\",\n",
    "  ylab = \"Nombre de morceaux\",\n",
    "  col = \"lightblue\",\n",
    "  border = \"black\"\n",
    ")"
   ]
  },
  {
   "cell_type": "code",
   "execution_count": null,
   "metadata": {
    "vscode": {
     "languageId": "r"
    }
   },
   "outputs": [],
   "source": [
    "# Création des catégories pour la variable 'speechiness'\n",
    "onlysongs$speechiness_category <- cut(\n",
    "  onlysongs$speechiness,\n",
    "  breaks = c(0, 0.5, 1),\n",
    "  labels = c(\"Vocal\", \"Instrumental\"),\n",
    "  include.lowest = TRUE\n",
    ")\n",
    "\n",
    "# Comptage des occurrences dans chaque catégorie\n",
    "speechiness_counts <- table(onlysongs$speechiness_category)\n",
    "\n",
    "# Création de l'histogramme\n",
    "barplot(\n",
    "  speechiness_counts,\n",
    "  main = \"Distribution des catégories de 'speechiness'\",\n",
    "  xlab = \"Catégories de speechiness\",\n",
    "  ylab = \"Nombre de morceaux\",\n",
    "  col = \"lightblue\",\n",
    "  border = \"black\"\n",
    ")"
   ]
  },
  {
   "cell_type": "code",
   "execution_count": null,
   "metadata": {
    "vscode": {
     "languageId": "r"
    }
   },
   "outputs": [],
   "source": [
    "# Affichage des colonnes de onlysongs\n",
    "colnames(onlysongs)\n",
    "\n",
    "# Affichage de la matrice de corrélation des colonnes popularity, danceability, energy, loudness, speechiness, acousticness, instrumentalness, liveness, valence, tempo, duration_s\n",
    "correlation_matrix <- cor(onlysongs[, c(\"track_popularity\", \"danceability\", \"energy\", \"loudness\", \"speechiness\", \"acousticness\", \"instrumentalness\", \"liveness\", \"valence\", \"tempo\", \"duration_s\")])\n",
    "corrplot(correlation_matrix, method = \"number\")"
   ]
  },
  {
   "cell_type": "code",
   "execution_count": null,
   "metadata": {
    "vscode": {
     "languageId": "r"
    }
   },
   "outputs": [],
   "source": [
    "# Encodage des artistes en variables numériques\n",
    "onlysongs$artist_numeric <- as.numeric(as.factor(onlysongs$track_artist))\n",
    "\n",
    "# Calcul de la corrélation entre l'artiste encodé et la popularité\n",
    "correlation_artist_popularity <- cor(onlysongs$artist_numeric, onlysongs$track_popularity)\n",
    "\n",
    "# Affichage de la corrélation\n",
    "print(correlation_artist_popularity)"
   ]
  },
  {
   "cell_type": "code",
   "execution_count": null,
   "metadata": {
    "vscode": {
     "languageId": "r"
    }
   },
   "outputs": [],
   "source": [
    "# Scatterplot pour visualiser la relation entre l'accousticness et l'energy\n",
    "ggplot(onlysongs, aes(x = acousticness, y = energy)) +\n",
    "  geom_point(aes(color = track_popularity), alpha = 0.5) +\n",
    "  scale_color_gradient(low = \"blue\", high = \"red\") +\n",
    "  labs(title = \"Relation entre l'acousticness et l'energy\",\n",
    "       x = \"Acousticness\",\n",
    "       y = \"Energy\",\n",
    "       color = \"Popularité\") +\n",
    "  theme_minimal()"
   ]
  },
  {
   "cell_type": "code",
   "execution_count": null,
   "metadata": {
    "vscode": {
     "languageId": "r"
    }
   },
   "outputs": [],
   "source": [
    "# Scatterplot pour visualiser la relation entre l'acousticness et la loudness\n",
    "ggplot(onlysongs, aes(x = acousticness, y = loudness)) +\n",
    "  geom_point(aes(color = track_popularity), alpha = 0.5) +\n",
    "  scale_color_gradient(low = \"blue\", high = \"red\") +\n",
    "  labs(title = \"Relation entre l'acousticness et la loudness\",\n",
    "       x = \"Acousticness\",\n",
    "       y = \"Loudness\",\n",
    "       color = \"Popularité\") +\n",
    "  theme_minimal()"
   ]
  },
  {
   "cell_type": "code",
   "execution_count": null,
   "metadata": {
    "vscode": {
     "languageId": "r"
    }
   },
   "outputs": [],
   "source": [
    "#Scatterplot pour visualiser la relation entre la loudness et l'energy\n",
    "ggplot(onlysongs, aes(x = loudness, y = energy)) +\n",
    "  geom_point(aes(color = track_popularity), alpha = 0.5) +\n",
    "  scale_color_gradient(low = \"blue\", high = \"red\") +\n",
    "  labs(title = \"Relation entre la loudness et l'energy\",\n",
    "       x = \"Loudness\",\n",
    "       y = \"Energy\",\n",
    "       color = \"Popularité\") +\n",
    "  theme_minimal()"
   ]
  },
  {
   "cell_type": "code",
   "execution_count": null,
   "metadata": {
    "vscode": {
     "languageId": "r"
    }
   },
   "outputs": [],
   "source": [
    "# Histogrammes de la popularité des chansons par genre, un histogramme par genre, en utilisant les données \"song\"\n",
    "options(repr.plot.width=15, repr.plot.height=10)\n",
    "par(mfrow=c(3, 2))\n",
    "for (genre in levels(song$playlist_genre)) {\n",
    "  hist(song$track_popularity[song$playlist_genre == genre], \n",
    "       main = paste(\"Popularité des chansons dans le genre\", genre), \n",
    "       xlab = \"Popularité\", \n",
    "       ylab = \"Nombre de chansons\", \n",
    "       col = \"lightblue\", \n",
    "       border = \"black\")\n",
    "}"
   ]
  },
  {
   "cell_type": "code",
   "execution_count": null,
   "metadata": {
    "vscode": {
     "languageId": "r"
    }
   },
   "outputs": [],
   "source": [
    "# Histogrammes de la popularité des chansons par sous-genre, un histogramme par sous-genre, en utilisant les données \"song\"\n",
    "options(repr.plot.width=15, repr.plot.height=10)\n",
    "par(mfrow=c(3, 2))\n",
    "for (subgenre in levels(song$playlist_subgenre)) {\n",
    "  hist(song$track_popularity[song$playlist_subgenre == subgenre], \n",
    "       main = paste(\"Popularité des chansons dans le sous-genre\", subgenre), \n",
    "       xlab = \"Popularité\", \n",
    "       ylab = \"Nombre de chansons\", \n",
    "       col = \"lightblue\", \n",
    "       border = \"black\")\n",
    "}"
   ]
  },
  {
   "cell_type": "code",
   "execution_count": null,
   "metadata": {
    "vscode": {
     "languageId": "r"
    }
   },
   "outputs": [],
   "source": [
    "# Extraction de l'année de sortie\n",
    "onlysongs$release_year <- format(onlysongs$track_album_release_date, \"%Y\")\n",
    "\n",
    "# Calcul de la popularité moyenne par année de sortie\n",
    "average_popularity_by_year <- onlysongs %>%\n",
    "  group_by(release_year) %>%\n",
    "  summarise(mean_popularity = mean(track_popularity, na.rm = TRUE))\n",
    "\n",
    "# Création du graphique\n",
    "ggplot(average_popularity_by_year, aes(x = as.numeric(release_year), y = mean_popularity)) +\n",
    "  geom_line(color = \"blue\") +\n",
    "  geom_point(color = \"red\") +\n",
    "  labs(title = \"Popularité moyenne des musiques par année de sortie\",\n",
    "       x = \"Année de sortie\",\n",
    "       y = \"Popularité moyenne\") +\n",
    "  theme_minimal()"
   ]
  },
  {
   "cell_type": "code",
   "execution_count": null,
   "metadata": {
    "vscode": {
     "languageId": "r"
    }
   },
   "outputs": [],
   "source": [
    "# Comptage du nombre de musiques par genre et par année\n",
    "songs_by_genre_year <- song %>%\n",
    "    group_by(release_year = format(track_album_release_date, \"%Y\"), playlist_genre) %>%\n",
    "    summarise(count = n(), .groups = \"drop\")\n",
    "\n",
    "# Création du graphique\n",
    "    ggplot(songs_by_genre_year, aes(x = as.numeric(release_year), y = count, color = playlist_genre)) +\n",
    "        geom_line() +\n",
    "        labs(title = \"Nombre de musiques sorties par genre et par année\",\n",
    "             x = \"Année de sortie\",\n",
    "             y = \"Nombre de morceaux\",\n",
    "             color = \"Genre\") +\n",
    "        theme_minimal()"
   ]
  },
  {
   "cell_type": "code",
   "execution_count": null,
   "metadata": {
    "vscode": {
     "languageId": "r"
    }
   },
   "outputs": [],
   "source": [
    "# Calcul de la loudness moyenne par genre\n",
    "average_loudness_by_genre <- song %>%\n",
    "    group_by(playlist_genre) %>%\n",
    "    summarise(mean_loudness = mean(loudness, na.rm = TRUE))\n",
    "\n",
    "# Création du graphique\n",
    "ggplot(average_loudness_by_genre, aes(x = reorder(playlist_genre, -mean_loudness), y = mean_loudness)) +\n",
    "    geom_bar(stat = \"identity\", fill = \"lightblue\", color = \"black\") +\n",
    "    labs(title = \"Loudness moyenne par genre de musique\",\n",
    "             x = \"Genre de musique\",\n",
    "             y = \"Loudness moyenne\") +\n",
    "    theme_minimal() +\n",
    "    theme(axis.text.x = element_text(angle = 45, hjust = 1))"
   ]
  },
  {
   "cell_type": "code",
   "execution_count": null,
   "metadata": {
    "vscode": {
     "languageId": "r"
    }
   },
   "outputs": [],
   "source": [
    "# Calcul des moyennes par genre pour chaque variable\n",
    "average_values_by_genre <- song %>%\n",
    "    group_by(playlist_genre) %>%\n",
    "    summarise(\n",
    "        danceability = mean(danceability, na.rm = TRUE),\n",
    "        energy = mean(energy, na.rm = TRUE),\n",
    "        loudness = mean(loudness, na.rm = TRUE),\n",
    "        mode = mean(as.numeric(mode), na.rm = TRUE),\n",
    "        speechiness = mean(speechiness, na.rm = TRUE),\n",
    "        acousticness = mean(acousticness, na.rm = TRUE),\n",
    "        instrumentalness = mean(instrumentalness, na.rm = TRUE),\n",
    "        liveness = mean(liveness, na.rm = TRUE),\n",
    "        valence = mean(valence, na.rm = TRUE),\n",
    "        tempo = mean(tempo, na.rm = TRUE),\n",
    "        duration_ms = mean(duration_s * 1000, na.rm = TRUE)\n",
    "    )\n",
    "\n",
    "# Affichage du tableau\n",
    "print(average_values_by_genre)"
   ]
  },
  {
   "cell_type": "code",
   "execution_count": null,
   "metadata": {
    "vscode": {
     "languageId": "r"
    }
   },
   "outputs": [],
   "source": [
    "# Diagramme en barres empliées de la variable \"Key\" en fonction du genre de la musique\n",
    "ggplot(song, aes(x = playlist_genre, fill = key)) +\n",
    "  geom_bar(position = \"fill\") +\n",
    "  labs(title = \"Répartition de la variable 'Key' par genre de musique\",\n",
    "       x = \"Genre de musique\",\n",
    "       y = \"Proportion\",\n",
    "       fill = \"Key\") +\n",
    "  theme_minimal() +\n",
    "  theme(axis.text.x = element_text(angle = 45, hjust = 1))"
   ]
  },
  {
   "cell_type": "code",
   "execution_count": null,
   "metadata": {
    "vscode": {
     "languageId": "r"
    }
   },
   "outputs": [],
   "source": [
    "#Diagramme en barre empillés de la variable \"Mode\" en fonction du genre de la musique\n",
    "ggplot(song, aes(x = playlist_genre, fill = mode)) +\n",
    "  geom_bar(position = \"fill\") +\n",
    "  labs(title = \"Répartition de la variable 'Mode' par genre de musique\",\n",
    "       x = \"Genre de musique\",\n",
    "       y = \"Proportion\",\n",
    "       fill = \"Mode\") +\n",
    "  theme_minimal() +\n",
    "  theme(axis.text.x = element_text(angle = 45, hjust = 1))"
   ]
  },
  {
   "cell_type": "code",
   "execution_count": null,
   "metadata": {
    "vscode": {
     "languageId": "r"
    }
   },
   "outputs": [],
   "source": []
  }
 ],
 "metadata": {
  "kernelspec": {
   "display_name": "R",
   "language": "R",
   "name": "ir"
  },
  "language_info": {
   "codemirror_mode": "r",
   "file_extension": ".r",
   "mimetype": "text/x-r-source",
   "name": "R",
   "pygments_lexer": "r",
   "version": "4.4.3"
  }
 },
 "nbformat": 4,
 "nbformat_minor": 2
}
