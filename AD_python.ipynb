{
 "cells": [
  {
   "cell_type": "markdown",
   "metadata": {},
   "source": [
    "# Pre-processing"
   ]
  },
  {
   "cell_type": "code",
   "execution_count": null,
   "metadata": {},
   "outputs": [],
   "source": [
    "import pandas as pd"
   ]
  },
  {
   "cell_type": "code",
   "execution_count": null,
   "metadata": {},
   "outputs": [],
   "source": [
    "data = pd.read_csv('data/spotify_songs.csv')"
   ]
  },
  {
   "cell_type": "code",
   "execution_count": null,
   "metadata": {},
   "outputs": [],
   "source": [
    "display(data)\n",
    "display(data.describe().T.style.background_gradient(cmap='YlGnBu'))"
   ]
  },
  {
   "cell_type": "code",
   "execution_count": null,
   "metadata": {},
   "outputs": [],
   "source": [
    "# check for missing values\n",
    "missing_values = data.isnull().sum()\n",
    "display(missing_values)\n",
    "\n",
    "# display the lines with missing values\n",
    "missing_data = data[data.isnull().any(axis=1)]\n",
    "display(missing_data)"
   ]
  },
  {
   "cell_type": "code",
   "execution_count": null,
   "metadata": {},
   "outputs": [],
   "source": [
    "# Remove id columns\n",
    "data = data.drop(columns=['track_id', 'track_album_id', \"playlist_id\"], axis=1)\n",
    "# drop the missing values\n",
    "data = data.dropna()\n",
    "display(data)\n"
   ]
  },
  {
   "cell_type": "code",
   "execution_count": null,
   "metadata": {},
   "outputs": [],
   "source": [
    "# transform track_album_release_date into datetime\n",
    "data['track_album_release_date'] = pd.to_datetime(data['track_album_release_date'], format='mixed')\n",
    "\n",
    "# transform categorical columns into categorical data type\n",
    "categorical_cols = ['playlist_genre', 'playlist_subgenre', 'track_artist', 'playlist_name', 'track_album_name']\n",
    "for col in categorical_cols:\n",
    "    data[col] = data[col].astype('category')\n",
    "\n",
    "# transform the duration_ms into minutes\n",
    "data['duration_s'] = data['duration_ms'] / 1000\n",
    "data.drop(columns=['duration_ms'], inplace=True)\n",
    "\n",
    "# For numeric columns that represent discrete values (like key and mode), convert to categorical\n",
    "key_mapping = {\n",
    "    0: 'C', 1: 'C♯/D♭', 2: 'D', 3: 'D♯/E♭', 4: 'E', 5: 'F',\n",
    "    6: 'F♯/G♭', 7: 'G', 8: 'G♯/A♭', 9: 'A', 10: 'A♯/B♭', 11: 'B'\n",
    "}\n",
    "data['key'] = data['key'].map(key_mapping).astype('category')\n",
    "\n",
    "data['mode'] = data['mode'].map({0: 'Minor', 1: 'Major'}).astype('category')\n",
    "\n"
   ]
  },
  {
   "cell_type": "code",
   "execution_count": null,
   "metadata": {},
   "outputs": [],
   "source": [
    "data.info()"
   ]
  },
  {
   "cell_type": "markdown",
   "metadata": {},
   "source": [
    "# Descriptive Analysis"
   ]
  },
  {
   "cell_type": "code",
   "execution_count": null,
   "metadata": {},
   "outputs": [],
   "source": []
  },
  {
   "cell_type": "markdown",
   "metadata": {},
   "source": [
    "# PCA"
   ]
  },
  {
   "cell_type": "code",
   "execution_count": null,
   "metadata": {},
   "outputs": [],
   "source": [
    "import numpy as np\n",
    "import prince\n",
    "\n",
    "import matplotlib.pyplot as plt\n",
    "import seaborn as sns"
   ]
  },
  {
   "cell_type": "code",
   "execution_count": null,
   "metadata": {},
   "outputs": [],
   "source": [
    "# Select only the quantitative columns\n",
    "\n",
    "qualisup = 'playlist_genre'\n",
    "\n",
    "\n",
    "data_quanti = data.select_dtypes(include=['int64', 'float64'])\n",
    "data_quanti[qualisup] = data[qualisup]\n",
    "data_quanti = data_quanti.set_index(qualisup)\n",
    "\n",
    "\n",
    "\n",
    "\n",
    "# display(data_quanti.head())\n",
    "\n",
    "pca = prince.PCA(\n",
    "    n_components=4,\n",
    "    n_iter=3,\n",
    "    rescale_with_mean=True,\n",
    "    rescale_with_std=True,\n",
    "    copy=True,\n",
    "    check_input=True,\n",
    "    engine='sklearn',\n",
    "    random_state=1\n",
    ")\n",
    "pca = pca.fit(\n",
    "    data_quanti,\n",
    "    sample_weight=None,\n",
    "    column_weight=None,\n",
    "    supplementary_columns=None\n",
    ")\n",
    "\n"
   ]
  },
  {
   "cell_type": "code",
   "execution_count": null,
   "metadata": {},
   "outputs": [],
   "source": [
    "pca.scree_plot()"
   ]
  },
  {
   "cell_type": "code",
   "execution_count": null,
   "metadata": {},
   "outputs": [],
   "source": [
    "plt.boxplot(pca.row_coordinates(data_quanti))"
   ]
  },
  {
   "cell_type": "code",
   "execution_count": null,
   "metadata": {},
   "outputs": [],
   "source": [
    "correlations = pca.column_correlations\n",
    "plt.figure(figsize=(10, 8))\n",
    "sns.heatmap(correlations, annot=True, cmap='RdBu', center=0)\n",
    "plt.title('Corrélations entre les variables et les composantes principales')\n",
    "plt.show()\n"
   ]
  },
  {
   "cell_type": "markdown",
   "metadata": {},
   "source": [
    "### Interprétation de l'Analyse en Composantes Principales (PCA)\n",
    "\n",
    "\n",
    "#### **Analyse des principales corrélations :**\n",
    "- **PC1 (Composante Principale 1) :**  \n",
    "  - **Corrélations négatives fortes :** `energy (-0.91)`, `loudness (-0.80)`.  \n",
    "    → Cette composante sépare les morceaux énergiques et bruyants des morceaux plus doux.  \n",
    "  - **Corrélation positive forte :** `acousticness (+0.72)`.  \n",
    "    → Elle oppose également les morceaux acoustiques aux morceaux énergétiques.  \n",
    "\n",
    "- **PC2 (Composante Principale 2) :**  \n",
    "  - **Corrélations négatives :** `danceability (-0.68)`, `valence (-0.62)`.  \n",
    "    → Cette composante distingue les morceaux dansants et joyeux des autres.  \n",
    "  - **Corrélations positives :** `instrumentalness (+0.45)`, `duration_s (+0.38)`.  \n",
    "    → Elle représente les morceaux plus longs et instrumentaux.  \n",
    "\n",
    "- **PC3 (Composante Principale 3) :**  \n",
    "  - **Corrélations positives :** `danceability (+0.46)`, `instrumentalness (+0.39)`, `duration_s (+0.45)`.  \n",
    "    → Cette dimension semble être liée à la dansabilité et à la durée des morceaux.  \n",
    "  - **Corrélation négative :** `tempo (-0.35)`.  \n",
    "    → Elle oppose les morceaux rapides et lents.  \n",
    "\n",
    "- **PC4 (Composante Principale 4) :**  \n",
    "  - **Corrélation positive forte :** `speechiness (+0.71)`.  \n",
    "    → Cette composante est dominée par la présence de paroles (ex : rap).  \n",
    "  - **Corrélation positive :** `liveness (+0.58)`.  \n",
    "    → Elle met en avant les morceaux enregistrés en live.  \n",
    "\n",
    "### **Interprétation globale :**\n",
    "- **PC1 sépare les morceaux énergiques et bruyants des morceaux acoustiques.**  \n",
    "- **PC2 distingue les morceaux dansants et joyeux des morceaux instrumentaux et longs.**  \n",
    "- **PC3 différencie les morceaux en fonction de leur dansabilité et de leur tempo.**  \n",
    "- **PC4 met en avant les morceaux avec beaucoup de paroles et ceux enregistrés en live.**  \n",
    "\n"
   ]
  },
  {
   "cell_type": "code",
   "execution_count": null,
   "metadata": {},
   "outputs": [],
   "source": [
    "# %load solutions/pmca/plot_pca.py\n",
    "def plot_pca(ax1=0, ax2=1, pca=pca, data=data_quanti):\n",
    "  dataset = pca.transform(data)\n",
    "  dataset.reset_index(inplace=True)\n",
    "  sns.scatterplot(data = dataset,\n",
    "                  x = ax1, y = ax2,\n",
    "                  hue = qualisup, alpha=.3)\n",
    "\n",
    "  plt.xlabel('Component {} — {:.2f}%'.format(ax1, pca.percentage_of_variance_[ax1]))\n",
    "  plt.ylabel('Component {} — {:.2f}%'.format(ax2, pca.percentage_of_variance_[ax2]))\n",
    "  plt.grid(True)\n",
    "  plt.show()\n",
    "\n",
    "plot_pca(0,1)\n",
    "plot_pca(1,2)\n",
    "plot_pca(0,2)"
   ]
  },
  {
   "cell_type": "code",
   "execution_count": null,
   "metadata": {},
   "outputs": [],
   "source": []
  }
 ],
 "metadata": {
  "kernelspec": {
   "display_name": "dataScience",
   "language": "python",
   "name": "python3"
  },
  "language_info": {
   "codemirror_mode": {
    "name": "ipython",
    "version": 3
   },
   "file_extension": ".py",
   "mimetype": "text/x-python",
   "name": "python",
   "nbconvert_exporter": "python",
   "pygments_lexer": "ipython3",
   "version": "3.12.6"
  }
 },
 "nbformat": 4,
 "nbformat_minor": 2
}
