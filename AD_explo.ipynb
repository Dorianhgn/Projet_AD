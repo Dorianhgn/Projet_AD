{
 "cells": [
  {
   "cell_type": "markdown",
   "metadata": {},
   "source": [
    "## Analyse descriptive"
   ]
  },
  {
   "cell_type": "code",
   "execution_count": 17,
   "metadata": {
    "vscode": {
     "languageId": "r"
    }
   },
   "outputs": [],
   "source": [
    "# Chargement des librairies nécessaires\n",
    "library(ggplot2)\n",
    "library(tidyverse)\n",
    "library(gridExtra)\n",
    "library(GGally)\n",
    "library(plotly)\n",
    "library(corrplot)\n",
    "library(reshape2)\n",
    "library(FactoMineR) \n",
    "library(factoextra)\n",
    "library(glmnet) \n",
    "library(ggfortify)\n",
    "library(pROC)\n",
    "library(ROCR)"
   ]
  },
  {
   "cell_type": "code",
   "execution_count": 18,
   "metadata": {
    "vscode": {
     "languageId": "r"
    }
   },
   "outputs": [
    {
     "data": {
      "text/html": [
       "<table class=\"dataframe\">\n",
       "<caption>A data.frame: 6 × 23</caption>\n",
       "<thead>\n",
       "\t<tr><th></th><th scope=col>track_id</th><th scope=col>track_name</th><th scope=col>track_artist</th><th scope=col>track_popularity</th><th scope=col>track_album_id</th><th scope=col>track_album_name</th><th scope=col>track_album_release_date</th><th scope=col>playlist_name</th><th scope=col>playlist_id</th><th scope=col>playlist_genre</th><th scope=col>⋯</th><th scope=col>key</th><th scope=col>loudness</th><th scope=col>mode</th><th scope=col>speechiness</th><th scope=col>acousticness</th><th scope=col>instrumentalness</th><th scope=col>liveness</th><th scope=col>valence</th><th scope=col>tempo</th><th scope=col>duration_ms</th></tr>\n",
       "\t<tr><th></th><th scope=col>&lt;chr&gt;</th><th scope=col>&lt;chr&gt;</th><th scope=col>&lt;chr&gt;</th><th scope=col>&lt;int&gt;</th><th scope=col>&lt;chr&gt;</th><th scope=col>&lt;chr&gt;</th><th scope=col>&lt;chr&gt;</th><th scope=col>&lt;chr&gt;</th><th scope=col>&lt;chr&gt;</th><th scope=col>&lt;chr&gt;</th><th scope=col>⋯</th><th scope=col>&lt;int&gt;</th><th scope=col>&lt;dbl&gt;</th><th scope=col>&lt;int&gt;</th><th scope=col>&lt;dbl&gt;</th><th scope=col>&lt;dbl&gt;</th><th scope=col>&lt;dbl&gt;</th><th scope=col>&lt;dbl&gt;</th><th scope=col>&lt;dbl&gt;</th><th scope=col>&lt;dbl&gt;</th><th scope=col>&lt;int&gt;</th></tr>\n",
       "</thead>\n",
       "<tbody>\n",
       "\t<tr><th scope=row>1</th><td>6f807x0ima9a1j3VPbc7VN</td><td>I Don't Care (with Justin Bieber) - Loud Luxury Remix</td><td>Ed Sheeran      </td><td>66</td><td>2oCs0DGTsRO98Gh5ZSl2Cx</td><td>I Don't Care (with Justin Bieber) [Loud Luxury Remix]</td><td>2019-06-14</td><td>Pop Remix</td><td>37i9dQZF1DXcZDD7cfEKhW</td><td>pop</td><td>⋯</td><td> 6</td><td>-2.634</td><td>1</td><td>0.0583</td><td>0.1020</td><td>0.00e+00</td><td>0.0653</td><td>0.518</td><td>122.036</td><td>194754</td></tr>\n",
       "\t<tr><th scope=row>2</th><td>0r7CVbZTWZgbTCYdfa2P31</td><td>Memories - Dillon Francis Remix                      </td><td>Maroon 5        </td><td>67</td><td>63rPSO264uRjW1X5E6cWv6</td><td>Memories (Dillon Francis Remix)                      </td><td>2019-12-13</td><td>Pop Remix</td><td>37i9dQZF1DXcZDD7cfEKhW</td><td>pop</td><td>⋯</td><td>11</td><td>-4.969</td><td>1</td><td>0.0373</td><td>0.0724</td><td>4.21e-03</td><td>0.3570</td><td>0.693</td><td> 99.972</td><td>162600</td></tr>\n",
       "\t<tr><th scope=row>3</th><td>1z1Hg7Vb0AhHDiEmnDE79l</td><td>All the Time - Don Diablo Remix                      </td><td>Zara Larsson    </td><td>70</td><td>1HoSmj2eLcsrR0vE9gThr4</td><td>All the Time (Don Diablo Remix)                      </td><td>2019-07-05</td><td>Pop Remix</td><td>37i9dQZF1DXcZDD7cfEKhW</td><td>pop</td><td>⋯</td><td> 1</td><td>-3.432</td><td>0</td><td>0.0742</td><td>0.0794</td><td>2.33e-05</td><td>0.1100</td><td>0.613</td><td>124.008</td><td>176616</td></tr>\n",
       "\t<tr><th scope=row>4</th><td>75FpbthrwQmzHlBJLuGdC7</td><td>Call You Mine - Keanu Silva Remix                    </td><td>The Chainsmokers</td><td>60</td><td>1nqYsOef1yKKuGOVchbsk6</td><td>Call You Mine - The Remixes                          </td><td>2019-07-19</td><td>Pop Remix</td><td>37i9dQZF1DXcZDD7cfEKhW</td><td>pop</td><td>⋯</td><td> 7</td><td>-3.778</td><td>1</td><td>0.1020</td><td>0.0287</td><td>9.43e-06</td><td>0.2040</td><td>0.277</td><td>121.956</td><td>169093</td></tr>\n",
       "\t<tr><th scope=row>5</th><td>1e8PAfcKUYoKkxPhrHqw4x</td><td>Someone You Loved - Future Humans Remix              </td><td>Lewis Capaldi   </td><td>69</td><td>7m7vv9wlQ4i0LFuJiE2zsQ</td><td>Someone You Loved (Future Humans Remix)              </td><td>2019-03-05</td><td>Pop Remix</td><td>37i9dQZF1DXcZDD7cfEKhW</td><td>pop</td><td>⋯</td><td> 1</td><td>-4.672</td><td>1</td><td>0.0359</td><td>0.0803</td><td>0.00e+00</td><td>0.0833</td><td>0.725</td><td>123.976</td><td>189052</td></tr>\n",
       "\t<tr><th scope=row>6</th><td>7fvUMiyapMsRRxr07cU8Ef</td><td>Beautiful People (feat. Khalid) - Jack Wins Remix    </td><td>Ed Sheeran      </td><td>67</td><td>2yiy9cd2QktrNvWC2EUi0k</td><td>Beautiful People (feat. Khalid) [Jack Wins Remix]    </td><td>2019-07-11</td><td>Pop Remix</td><td>37i9dQZF1DXcZDD7cfEKhW</td><td>pop</td><td>⋯</td><td> 8</td><td>-5.385</td><td>1</td><td>0.1270</td><td>0.0799</td><td>0.00e+00</td><td>0.1430</td><td>0.585</td><td>124.982</td><td>163049</td></tr>\n",
       "</tbody>\n",
       "</table>\n"
      ],
      "text/latex": [
       "A data.frame: 6 × 23\n",
       "\\begin{tabular}{r|lllllllllllllllllllll}\n",
       "  & track\\_id & track\\_name & track\\_artist & track\\_popularity & track\\_album\\_id & track\\_album\\_name & track\\_album\\_release\\_date & playlist\\_name & playlist\\_id & playlist\\_genre & ⋯ & key & loudness & mode & speechiness & acousticness & instrumentalness & liveness & valence & tempo & duration\\_ms\\\\\n",
       "  & <chr> & <chr> & <chr> & <int> & <chr> & <chr> & <chr> & <chr> & <chr> & <chr> & ⋯ & <int> & <dbl> & <int> & <dbl> & <dbl> & <dbl> & <dbl> & <dbl> & <dbl> & <int>\\\\\n",
       "\\hline\n",
       "\t1 & 6f807x0ima9a1j3VPbc7VN & I Don't Care (with Justin Bieber) - Loud Luxury Remix & Ed Sheeran       & 66 & 2oCs0DGTsRO98Gh5ZSl2Cx & I Don't Care (with Justin Bieber) {[}Loud Luxury Remix{]} & 2019-06-14 & Pop Remix & 37i9dQZF1DXcZDD7cfEKhW & pop & ⋯ &  6 & -2.634 & 1 & 0.0583 & 0.1020 & 0.00e+00 & 0.0653 & 0.518 & 122.036 & 194754\\\\\n",
       "\t2 & 0r7CVbZTWZgbTCYdfa2P31 & Memories - Dillon Francis Remix                       & Maroon 5         & 67 & 63rPSO264uRjW1X5E6cWv6 & Memories (Dillon Francis Remix)                       & 2019-12-13 & Pop Remix & 37i9dQZF1DXcZDD7cfEKhW & pop & ⋯ & 11 & -4.969 & 1 & 0.0373 & 0.0724 & 4.21e-03 & 0.3570 & 0.693 &  99.972 & 162600\\\\\n",
       "\t3 & 1z1Hg7Vb0AhHDiEmnDE79l & All the Time - Don Diablo Remix                       & Zara Larsson     & 70 & 1HoSmj2eLcsrR0vE9gThr4 & All the Time (Don Diablo Remix)                       & 2019-07-05 & Pop Remix & 37i9dQZF1DXcZDD7cfEKhW & pop & ⋯ &  1 & -3.432 & 0 & 0.0742 & 0.0794 & 2.33e-05 & 0.1100 & 0.613 & 124.008 & 176616\\\\\n",
       "\t4 & 75FpbthrwQmzHlBJLuGdC7 & Call You Mine - Keanu Silva Remix                     & The Chainsmokers & 60 & 1nqYsOef1yKKuGOVchbsk6 & Call You Mine - The Remixes                           & 2019-07-19 & Pop Remix & 37i9dQZF1DXcZDD7cfEKhW & pop & ⋯ &  7 & -3.778 & 1 & 0.1020 & 0.0287 & 9.43e-06 & 0.2040 & 0.277 & 121.956 & 169093\\\\\n",
       "\t5 & 1e8PAfcKUYoKkxPhrHqw4x & Someone You Loved - Future Humans Remix               & Lewis Capaldi    & 69 & 7m7vv9wlQ4i0LFuJiE2zsQ & Someone You Loved (Future Humans Remix)               & 2019-03-05 & Pop Remix & 37i9dQZF1DXcZDD7cfEKhW & pop & ⋯ &  1 & -4.672 & 1 & 0.0359 & 0.0803 & 0.00e+00 & 0.0833 & 0.725 & 123.976 & 189052\\\\\n",
       "\t6 & 7fvUMiyapMsRRxr07cU8Ef & Beautiful People (feat. Khalid) - Jack Wins Remix     & Ed Sheeran       & 67 & 2yiy9cd2QktrNvWC2EUi0k & Beautiful People (feat. Khalid) {[}Jack Wins Remix{]}     & 2019-07-11 & Pop Remix & 37i9dQZF1DXcZDD7cfEKhW & pop & ⋯ &  8 & -5.385 & 1 & 0.1270 & 0.0799 & 0.00e+00 & 0.1430 & 0.585 & 124.982 & 163049\\\\\n",
       "\\end{tabular}\n"
      ],
      "text/markdown": [
       "\n",
       "A data.frame: 6 × 23\n",
       "\n",
       "| <!--/--> | track_id &lt;chr&gt; | track_name &lt;chr&gt; | track_artist &lt;chr&gt; | track_popularity &lt;int&gt; | track_album_id &lt;chr&gt; | track_album_name &lt;chr&gt; | track_album_release_date &lt;chr&gt; | playlist_name &lt;chr&gt; | playlist_id &lt;chr&gt; | playlist_genre &lt;chr&gt; | ⋯ ⋯ | key &lt;int&gt; | loudness &lt;dbl&gt; | mode &lt;int&gt; | speechiness &lt;dbl&gt; | acousticness &lt;dbl&gt; | instrumentalness &lt;dbl&gt; | liveness &lt;dbl&gt; | valence &lt;dbl&gt; | tempo &lt;dbl&gt; | duration_ms &lt;int&gt; |\n",
       "|---|---|---|---|---|---|---|---|---|---|---|---|---|---|---|---|---|---|---|---|---|---|\n",
       "| 1 | 6f807x0ima9a1j3VPbc7VN | I Don't Care (with Justin Bieber) - Loud Luxury Remix | Ed Sheeran       | 66 | 2oCs0DGTsRO98Gh5ZSl2Cx | I Don't Care (with Justin Bieber) [Loud Luxury Remix] | 2019-06-14 | Pop Remix | 37i9dQZF1DXcZDD7cfEKhW | pop | ⋯ |  6 | -2.634 | 1 | 0.0583 | 0.1020 | 0.00e+00 | 0.0653 | 0.518 | 122.036 | 194754 |\n",
       "| 2 | 0r7CVbZTWZgbTCYdfa2P31 | Memories - Dillon Francis Remix                       | Maroon 5         | 67 | 63rPSO264uRjW1X5E6cWv6 | Memories (Dillon Francis Remix)                       | 2019-12-13 | Pop Remix | 37i9dQZF1DXcZDD7cfEKhW | pop | ⋯ | 11 | -4.969 | 1 | 0.0373 | 0.0724 | 4.21e-03 | 0.3570 | 0.693 |  99.972 | 162600 |\n",
       "| 3 | 1z1Hg7Vb0AhHDiEmnDE79l | All the Time - Don Diablo Remix                       | Zara Larsson     | 70 | 1HoSmj2eLcsrR0vE9gThr4 | All the Time (Don Diablo Remix)                       | 2019-07-05 | Pop Remix | 37i9dQZF1DXcZDD7cfEKhW | pop | ⋯ |  1 | -3.432 | 0 | 0.0742 | 0.0794 | 2.33e-05 | 0.1100 | 0.613 | 124.008 | 176616 |\n",
       "| 4 | 75FpbthrwQmzHlBJLuGdC7 | Call You Mine - Keanu Silva Remix                     | The Chainsmokers | 60 | 1nqYsOef1yKKuGOVchbsk6 | Call You Mine - The Remixes                           | 2019-07-19 | Pop Remix | 37i9dQZF1DXcZDD7cfEKhW | pop | ⋯ |  7 | -3.778 | 1 | 0.1020 | 0.0287 | 9.43e-06 | 0.2040 | 0.277 | 121.956 | 169093 |\n",
       "| 5 | 1e8PAfcKUYoKkxPhrHqw4x | Someone You Loved - Future Humans Remix               | Lewis Capaldi    | 69 | 7m7vv9wlQ4i0LFuJiE2zsQ | Someone You Loved (Future Humans Remix)               | 2019-03-05 | Pop Remix | 37i9dQZF1DXcZDD7cfEKhW | pop | ⋯ |  1 | -4.672 | 1 | 0.0359 | 0.0803 | 0.00e+00 | 0.0833 | 0.725 | 123.976 | 189052 |\n",
       "| 6 | 7fvUMiyapMsRRxr07cU8Ef | Beautiful People (feat. Khalid) - Jack Wins Remix     | Ed Sheeran       | 67 | 2yiy9cd2QktrNvWC2EUi0k | Beautiful People (feat. Khalid) [Jack Wins Remix]     | 2019-07-11 | Pop Remix | 37i9dQZF1DXcZDD7cfEKhW | pop | ⋯ |  8 | -5.385 | 1 | 0.1270 | 0.0799 | 0.00e+00 | 0.1430 | 0.585 | 124.982 | 163049 |\n",
       "\n"
      ],
      "text/plain": [
       "  track_id               track_name                                           \n",
       "1 6f807x0ima9a1j3VPbc7VN I Don't Care (with Justin Bieber) - Loud Luxury Remix\n",
       "2 0r7CVbZTWZgbTCYdfa2P31 Memories - Dillon Francis Remix                      \n",
       "3 1z1Hg7Vb0AhHDiEmnDE79l All the Time - Don Diablo Remix                      \n",
       "4 75FpbthrwQmzHlBJLuGdC7 Call You Mine - Keanu Silva Remix                    \n",
       "5 1e8PAfcKUYoKkxPhrHqw4x Someone You Loved - Future Humans Remix              \n",
       "6 7fvUMiyapMsRRxr07cU8Ef Beautiful People (feat. Khalid) - Jack Wins Remix    \n",
       "  track_artist     track_popularity track_album_id        \n",
       "1 Ed Sheeran       66               2oCs0DGTsRO98Gh5ZSl2Cx\n",
       "2 Maroon 5         67               63rPSO264uRjW1X5E6cWv6\n",
       "3 Zara Larsson     70               1HoSmj2eLcsrR0vE9gThr4\n",
       "4 The Chainsmokers 60               1nqYsOef1yKKuGOVchbsk6\n",
       "5 Lewis Capaldi    69               7m7vv9wlQ4i0LFuJiE2zsQ\n",
       "6 Ed Sheeran       67               2yiy9cd2QktrNvWC2EUi0k\n",
       "  track_album_name                                     \n",
       "1 I Don't Care (with Justin Bieber) [Loud Luxury Remix]\n",
       "2 Memories (Dillon Francis Remix)                      \n",
       "3 All the Time (Don Diablo Remix)                      \n",
       "4 Call You Mine - The Remixes                          \n",
       "5 Someone You Loved (Future Humans Remix)              \n",
       "6 Beautiful People (feat. Khalid) [Jack Wins Remix]    \n",
       "  track_album_release_date playlist_name playlist_id            playlist_genre\n",
       "1 2019-06-14               Pop Remix     37i9dQZF1DXcZDD7cfEKhW pop           \n",
       "2 2019-12-13               Pop Remix     37i9dQZF1DXcZDD7cfEKhW pop           \n",
       "3 2019-07-05               Pop Remix     37i9dQZF1DXcZDD7cfEKhW pop           \n",
       "4 2019-07-19               Pop Remix     37i9dQZF1DXcZDD7cfEKhW pop           \n",
       "5 2019-03-05               Pop Remix     37i9dQZF1DXcZDD7cfEKhW pop           \n",
       "6 2019-07-11               Pop Remix     37i9dQZF1DXcZDD7cfEKhW pop           \n",
       "  ⋯ key loudness mode speechiness acousticness instrumentalness liveness\n",
       "1 ⋯  6  -2.634   1    0.0583      0.1020       0.00e+00         0.0653  \n",
       "2 ⋯ 11  -4.969   1    0.0373      0.0724       4.21e-03         0.3570  \n",
       "3 ⋯  1  -3.432   0    0.0742      0.0794       2.33e-05         0.1100  \n",
       "4 ⋯  7  -3.778   1    0.1020      0.0287       9.43e-06         0.2040  \n",
       "5 ⋯  1  -4.672   1    0.0359      0.0803       0.00e+00         0.0833  \n",
       "6 ⋯  8  -5.385   1    0.1270      0.0799       0.00e+00         0.1430  \n",
       "  valence tempo   duration_ms\n",
       "1 0.518   122.036 194754     \n",
       "2 0.693    99.972 162600     \n",
       "3 0.613   124.008 176616     \n",
       "4 0.277   121.956 169093     \n",
       "5 0.725   123.976 189052     \n",
       "6 0.585   124.982 163049     "
      ]
     },
     "metadata": {},
     "output_type": "display_data"
    },
    {
     "data": {
      "text/plain": [
       "   track_id          track_name        track_artist       track_popularity\n",
       " Length:32833       Length:32833       Length:32833       Min.   :  0.00  \n",
       " Class :character   Class :character   Class :character   1st Qu.: 24.00  \n",
       " Mode  :character   Mode  :character   Mode  :character   Median : 45.00  \n",
       "                                                          Mean   : 42.48  \n",
       "                                                          3rd Qu.: 62.00  \n",
       "                                                          Max.   :100.00  \n",
       " track_album_id     track_album_name   track_album_release_date\n",
       " Length:32833       Length:32833       Length:32833            \n",
       " Class :character   Class :character   Class :character        \n",
       " Mode  :character   Mode  :character   Mode  :character        \n",
       "                                                               \n",
       "                                                               \n",
       "                                                               \n",
       " playlist_name      playlist_id        playlist_genre     playlist_subgenre \n",
       " Length:32833       Length:32833       Length:32833       Length:32833      \n",
       " Class :character   Class :character   Class :character   Class :character  \n",
       " Mode  :character   Mode  :character   Mode  :character   Mode  :character  \n",
       "                                                                            \n",
       "                                                                            \n",
       "                                                                            \n",
       "  danceability        energy              key            loudness      \n",
       " Min.   :0.0000   Min.   :0.000175   Min.   : 0.000   Min.   :-46.448  \n",
       " 1st Qu.:0.5630   1st Qu.:0.581000   1st Qu.: 2.000   1st Qu.: -8.171  \n",
       " Median :0.6720   Median :0.721000   Median : 6.000   Median : -6.166  \n",
       " Mean   :0.6548   Mean   :0.698619   Mean   : 5.374   Mean   : -6.720  \n",
       " 3rd Qu.:0.7610   3rd Qu.:0.840000   3rd Qu.: 9.000   3rd Qu.: -4.645  \n",
       " Max.   :0.9830   Max.   :1.000000   Max.   :11.000   Max.   :  1.275  \n",
       "      mode         speechiness      acousticness    instrumentalness   \n",
       " Min.   :0.0000   Min.   :0.0000   Min.   :0.0000   Min.   :0.0000000  \n",
       " 1st Qu.:0.0000   1st Qu.:0.0410   1st Qu.:0.0151   1st Qu.:0.0000000  \n",
       " Median :1.0000   Median :0.0625   Median :0.0804   Median :0.0000161  \n",
       " Mean   :0.5657   Mean   :0.1071   Mean   :0.1753   Mean   :0.0847472  \n",
       " 3rd Qu.:1.0000   3rd Qu.:0.1320   3rd Qu.:0.2550   3rd Qu.:0.0048300  \n",
       " Max.   :1.0000   Max.   :0.9180   Max.   :0.9940   Max.   :0.9940000  \n",
       "    liveness         valence           tempo         duration_ms    \n",
       " Min.   :0.0000   Min.   :0.0000   Min.   :  0.00   Min.   :  4000  \n",
       " 1st Qu.:0.0927   1st Qu.:0.3310   1st Qu.: 99.96   1st Qu.:187819  \n",
       " Median :0.1270   Median :0.5120   Median :121.98   Median :216000  \n",
       " Mean   :0.1902   Mean   :0.5106   Mean   :120.88   Mean   :225800  \n",
       " 3rd Qu.:0.2480   3rd Qu.:0.6930   3rd Qu.:133.92   3rd Qu.:253585  \n",
       " Max.   :0.9960   Max.   :0.9910   Max.   :239.44   Max.   :517810  "
      ]
     },
     "metadata": {},
     "output_type": "display_data"
    }
   ],
   "source": [
    "# Lecture des données\n",
    "path <- \"data/\"\n",
    "song <- read.csv(paste0(path, \"spotify_songs.csv\"), header = TRUE, sep = \",\")\n",
    "\n",
    "# Premières lignes du jeu de données\n",
    "head(song)\n",
    "\n",
    "# Vérification du contenu\n",
    "summary(song)"
   ]
  },
  {
   "cell_type": "code",
   "execution_count": null,
   "metadata": {
    "vscode": {
     "languageId": "r"
    }
   },
   "outputs": [],
   "source": []
  }
 ],
 "metadata": {
  "kernelspec": {
   "display_name": "R",
   "language": "R",
   "name": "ir"
  },
  "language_info": {
   "codemirror_mode": "r",
   "file_extension": ".r",
   "mimetype": "text/x-r-source",
   "name": "R",
   "pygments_lexer": "r",
   "version": "4.4.2"
  }
 },
 "nbformat": 4,
 "nbformat_minor": 2
}
